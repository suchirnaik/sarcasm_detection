{
 "cells": [
  {
   "cell_type": "code",
   "execution_count": 9,
   "id": "8d2c1065",
   "metadata": {},
   "outputs": [
    {
     "data": {
      "text/plain": [
       "False"
      ]
     },
     "execution_count": 9,
     "metadata": {},
     "output_type": "execute_result"
    }
   ],
   "source": [
    "import torch\n",
    "torch.cuda.is_available()"
   ]
  },
  {
   "cell_type": "code",
   "execution_count": 1,
   "id": "a58ead57",
   "metadata": {},
   "outputs": [],
   "source": [
    "import pandas as pd\n",
    "df = pd.read_csv('/Users/suchirnaik/Downloads/new_headline_saracasm.csv')\n",
    "\n"
   ]
  },
  {
   "cell_type": "code",
   "execution_count": 7,
   "id": "db05b014",
   "metadata": {},
   "outputs": [
    {
     "data": {
      "text/html": [
       "<div>\n",
       "<style scoped>\n",
       "    .dataframe tbody tr th:only-of-type {\n",
       "        vertical-align: middle;\n",
       "    }\n",
       "\n",
       "    .dataframe tbody tr th {\n",
       "        vertical-align: top;\n",
       "    }\n",
       "\n",
       "    .dataframe thead th {\n",
       "        text-align: right;\n",
       "    }\n",
       "</style>\n",
       "<table border=\"1\" class=\"dataframe\">\n",
       "  <thead>\n",
       "    <tr style=\"text-align: right;\">\n",
       "      <th></th>\n",
       "      <th>is_sarcastic</th>\n",
       "      <th>headline</th>\n",
       "    </tr>\n",
       "  </thead>\n",
       "  <tbody>\n",
       "    <tr>\n",
       "      <th>0</th>\n",
       "      <td>1</td>\n",
       "      <td>thirtysomething scientists unveil doomsday clo...</td>\n",
       "    </tr>\n",
       "    <tr>\n",
       "      <th>1</th>\n",
       "      <td>0</td>\n",
       "      <td>dem rep. totally nails why congress is falling...</td>\n",
       "    </tr>\n",
       "    <tr>\n",
       "      <th>2</th>\n",
       "      <td>0</td>\n",
       "      <td>eat your veggies: 9 deliciously different recipes</td>\n",
       "    </tr>\n",
       "    <tr>\n",
       "      <th>3</th>\n",
       "      <td>1</td>\n",
       "      <td>inclement weather prevents liar from getting t...</td>\n",
       "    </tr>\n",
       "    <tr>\n",
       "      <th>4</th>\n",
       "      <td>1</td>\n",
       "      <td>mother comes pretty close to using word 'strea...</td>\n",
       "    </tr>\n",
       "    <tr>\n",
       "      <th>...</th>\n",
       "      <td>...</td>\n",
       "      <td>...</td>\n",
       "    </tr>\n",
       "    <tr>\n",
       "      <th>28614</th>\n",
       "      <td>1</td>\n",
       "      <td>jews to celebrate rosh hashasha or something</td>\n",
       "    </tr>\n",
       "    <tr>\n",
       "      <th>28615</th>\n",
       "      <td>1</td>\n",
       "      <td>internal affairs investigator disappointed con...</td>\n",
       "    </tr>\n",
       "    <tr>\n",
       "      <th>28616</th>\n",
       "      <td>0</td>\n",
       "      <td>the most beautiful acceptance speech this week...</td>\n",
       "    </tr>\n",
       "    <tr>\n",
       "      <th>28617</th>\n",
       "      <td>1</td>\n",
       "      <td>mars probe destroyed by orbiting spielberg-gat...</td>\n",
       "    </tr>\n",
       "    <tr>\n",
       "      <th>28618</th>\n",
       "      <td>1</td>\n",
       "      <td>dad clarifies this not a food stop</td>\n",
       "    </tr>\n",
       "  </tbody>\n",
       "</table>\n",
       "<p>28619 rows × 2 columns</p>\n",
       "</div>"
      ],
      "text/plain": [
       "       is_sarcastic                                           headline\n",
       "0                 1  thirtysomething scientists unveil doomsday clo...\n",
       "1                 0  dem rep. totally nails why congress is falling...\n",
       "2                 0  eat your veggies: 9 deliciously different recipes\n",
       "3                 1  inclement weather prevents liar from getting t...\n",
       "4                 1  mother comes pretty close to using word 'strea...\n",
       "...             ...                                                ...\n",
       "28614             1       jews to celebrate rosh hashasha or something\n",
       "28615             1  internal affairs investigator disappointed con...\n",
       "28616             0  the most beautiful acceptance speech this week...\n",
       "28617             1  mars probe destroyed by orbiting spielberg-gat...\n",
       "28618             1                 dad clarifies this not a food stop\n",
       "\n",
       "[28619 rows x 2 columns]"
      ]
     },
     "execution_count": 7,
     "metadata": {},
     "output_type": "execute_result"
    }
   ],
   "source": [
    "df"
   ]
  },
  {
   "cell_type": "code",
   "execution_count": 4,
   "id": "73499ae5",
   "metadata": {},
   "outputs": [
    {
     "data": {
      "text/plain": [
       "0    14985\n",
       "1    13634\n",
       "Name: is_sarcastic, dtype: int64"
      ]
     },
     "execution_count": 4,
     "metadata": {},
     "output_type": "execute_result"
    }
   ],
   "source": [
    "df['is_sarcastic'].value_counts()"
   ]
  },
  {
   "cell_type": "code",
   "execution_count": 25,
   "id": "ec0bf628",
   "metadata": {},
   "outputs": [],
   "source": [
    "data = df.sample(n=1000, axis=0)\n",
    "\n",
    "\n"
   ]
  },
  {
   "cell_type": "code",
   "execution_count": 27,
   "id": "cb8467cf",
   "metadata": {},
   "outputs": [
    {
     "data": {
      "text/plain": [
       "0    517\n",
       "1    483\n",
       "Name: is_sarcastic, dtype: int64"
      ]
     },
     "execution_count": 27,
     "metadata": {},
     "output_type": "execute_result"
    }
   ],
   "source": [
    "data['is_sarcastic'].value_counts()"
   ]
  },
  {
   "cell_type": "code",
   "execution_count": 10,
   "id": "6b27c26e",
   "metadata": {},
   "outputs": [],
   "source": [
    "from torch.utils.data import TensorDataset, DataLoader"
   ]
  },
  {
   "cell_type": "code",
   "execution_count": null,
   "id": "b9c730fe",
   "metadata": {},
   "outputs": [],
   "source": [
    "### using bert uncased "
   ]
  },
  {
   "cell_type": "code",
   "execution_count": 28,
   "id": "3afa14b9",
   "metadata": {},
   "outputs": [],
   "source": [
    "from transformers import BertTokenizer\n",
    "# Tokenize the text data\n",
    "tokenizer = BertTokenizer.from_pretrained('bert-base-uncased')\n",
    "encoded_data = tokenizer(data['headline'].tolist(), padding=True, truncation=True, return_tensors='pt')\n",
    "\n",
    "# Prepare labels\n",
    "labels = torch.tensor(data['is_sarcastic'].tolist())"
   ]
  },
  {
   "cell_type": "code",
   "execution_count": 29,
   "id": "ec235c7a",
   "metadata": {},
   "outputs": [],
   "source": [
    "from sklearn.model_selection import train_test_split\n",
    "train_inputs, test_inputs, train_labels, test_labels = train_test_split(encoded_data['input_ids'], labels, test_size=0.2, random_state=42)"
   ]
  },
  {
   "cell_type": "code",
   "execution_count": 11,
   "id": "9dd8ff0f",
   "metadata": {},
   "outputs": [],
   "source": [
    "from torch.utils.data import TensorDataset, DataLoader"
   ]
  },
  {
   "cell_type": "code",
   "execution_count": 31,
   "id": "e5c42a44",
   "metadata": {},
   "outputs": [],
   "source": [
    "# Define a DataLoader\n",
    "train_dataset = TensorDataset(train_inputs, train_labels)\n",
    "train_loader = DataLoader(train_dataset, batch_size=16, shuffle=True)"
   ]
  },
  {
   "cell_type": "code",
   "execution_count": 32,
   "id": "9ebc5b83",
   "metadata": {},
   "outputs": [
    {
     "name": "stderr",
     "output_type": "stream",
     "text": [
      "Some weights of the model checkpoint at bert-base-uncased were not used when initializing BertForSequenceClassification: ['cls.predictions.decoder.weight', 'cls.predictions.transform.dense.bias', 'cls.predictions.transform.LayerNorm.weight', 'cls.seq_relationship.bias', 'cls.seq_relationship.weight', 'cls.predictions.transform.LayerNorm.bias', 'cls.predictions.bias', 'cls.predictions.transform.dense.weight']\n",
      "- This IS expected if you are initializing BertForSequenceClassification from the checkpoint of a model trained on another task or with another architecture (e.g. initializing a BertForSequenceClassification model from a BertForPreTraining model).\n",
      "- This IS NOT expected if you are initializing BertForSequenceClassification from the checkpoint of a model that you expect to be exactly identical (initializing a BertForSequenceClassification model from a BertForSequenceClassification model).\n",
      "Some weights of BertForSequenceClassification were not initialized from the model checkpoint at bert-base-uncased and are newly initialized: ['classifier.bias', 'classifier.weight']\n",
      "You should probably TRAIN this model on a down-stream task to be able to use it for predictions and inference.\n"
     ]
    }
   ],
   "source": [
    "from transformers import BertForSequenceClassification\n",
    "# Load the pre-trained model\n",
    "model = BertForSequenceClassification.from_pretrained('bert-base-uncased', num_labels=2)"
   ]
  },
  {
   "cell_type": "code",
   "execution_count": 33,
   "id": "507ace54",
   "metadata": {},
   "outputs": [],
   "source": [
    "# Define the loss function and optimizer\n",
    "import torch.nn as nn \n",
    "import torch.optim as optim\n",
    "criterion = nn.CrossEntropyLoss()\n",
    "optimizer = optim.AdamW(model.parameters(), lr=2e-5)"
   ]
  },
  {
   "cell_type": "code",
   "execution_count": 24,
   "id": "2766f799",
   "metadata": {},
   "outputs": [
    {
     "ename": "KeyboardInterrupt",
     "evalue": "",
     "output_type": "error",
     "traceback": [
      "\u001b[0;31m---------------------------------------------------------------------------\u001b[0m",
      "\u001b[0;31mKeyboardInterrupt\u001b[0m                         Traceback (most recent call last)",
      "\u001b[0;32m/var/folders/0w/78_w9pm16ts4trsks5rjpd440000gn/T/ipykernel_21339/708929528.py\u001b[0m in \u001b[0;36m<module>\u001b[0;34m\u001b[0m\n\u001b[1;32m      7\u001b[0m         \u001b[0mloss\u001b[0m \u001b[0;34m=\u001b[0m \u001b[0moutputs\u001b[0m\u001b[0;34m.\u001b[0m\u001b[0mloss\u001b[0m\u001b[0;34m\u001b[0m\u001b[0;34m\u001b[0m\u001b[0m\n\u001b[1;32m      8\u001b[0m         \u001b[0moptimizer\u001b[0m\u001b[0;34m.\u001b[0m\u001b[0mzero_grad\u001b[0m\u001b[0;34m(\u001b[0m\u001b[0;34m)\u001b[0m\u001b[0;34m\u001b[0m\u001b[0;34m\u001b[0m\u001b[0m\n\u001b[0;32m----> 9\u001b[0;31m         \u001b[0mloss\u001b[0m\u001b[0;34m.\u001b[0m\u001b[0mbackward\u001b[0m\u001b[0;34m(\u001b[0m\u001b[0;34m)\u001b[0m\u001b[0;34m\u001b[0m\u001b[0;34m\u001b[0m\u001b[0m\n\u001b[0m\u001b[1;32m     10\u001b[0m         \u001b[0moptimizer\u001b[0m\u001b[0;34m.\u001b[0m\u001b[0mstep\u001b[0m\u001b[0;34m(\u001b[0m\u001b[0;34m)\u001b[0m\u001b[0;34m\u001b[0m\u001b[0;34m\u001b[0m\u001b[0m\n",
      "\u001b[0;32m~/opt/anaconda3/lib/python3.9/site-packages/torch/_tensor.py\u001b[0m in \u001b[0;36mbackward\u001b[0;34m(self, gradient, retain_graph, create_graph, inputs)\u001b[0m\n\u001b[1;32m    485\u001b[0m                 \u001b[0minputs\u001b[0m\u001b[0;34m=\u001b[0m\u001b[0minputs\u001b[0m\u001b[0;34m,\u001b[0m\u001b[0;34m\u001b[0m\u001b[0;34m\u001b[0m\u001b[0m\n\u001b[1;32m    486\u001b[0m             )\n\u001b[0;32m--> 487\u001b[0;31m         torch.autograd.backward(\n\u001b[0m\u001b[1;32m    488\u001b[0m             \u001b[0mself\u001b[0m\u001b[0;34m,\u001b[0m \u001b[0mgradient\u001b[0m\u001b[0;34m,\u001b[0m \u001b[0mretain_graph\u001b[0m\u001b[0;34m,\u001b[0m \u001b[0mcreate_graph\u001b[0m\u001b[0;34m,\u001b[0m \u001b[0minputs\u001b[0m\u001b[0;34m=\u001b[0m\u001b[0minputs\u001b[0m\u001b[0;34m\u001b[0m\u001b[0;34m\u001b[0m\u001b[0m\n\u001b[1;32m    489\u001b[0m         )\n",
      "\u001b[0;32m~/opt/anaconda3/lib/python3.9/site-packages/torch/autograd/__init__.py\u001b[0m in \u001b[0;36mbackward\u001b[0;34m(tensors, grad_tensors, retain_graph, create_graph, grad_variables, inputs)\u001b[0m\n\u001b[1;32m    198\u001b[0m     \u001b[0;31m# some Python versions print out the first line of a multi-line function\u001b[0m\u001b[0;34m\u001b[0m\u001b[0;34m\u001b[0m\u001b[0m\n\u001b[1;32m    199\u001b[0m     \u001b[0;31m# calls in the traceback and some print out the last line\u001b[0m\u001b[0;34m\u001b[0m\u001b[0;34m\u001b[0m\u001b[0m\n\u001b[0;32m--> 200\u001b[0;31m     Variable._execution_engine.run_backward(  # Calls into the C++ engine to run the backward pass\n\u001b[0m\u001b[1;32m    201\u001b[0m         \u001b[0mtensors\u001b[0m\u001b[0;34m,\u001b[0m \u001b[0mgrad_tensors_\u001b[0m\u001b[0;34m,\u001b[0m \u001b[0mretain_graph\u001b[0m\u001b[0;34m,\u001b[0m \u001b[0mcreate_graph\u001b[0m\u001b[0;34m,\u001b[0m \u001b[0minputs\u001b[0m\u001b[0;34m,\u001b[0m\u001b[0;34m\u001b[0m\u001b[0;34m\u001b[0m\u001b[0m\n\u001b[1;32m    202\u001b[0m         allow_unreachable=True, accumulate_grad=True)  # Calls into the C++ engine to run the backward pass\n",
      "\u001b[0;31mKeyboardInterrupt\u001b[0m: "
     ]
    }
   ],
   "source": [
    "# Training loop\n",
    "model.train()\n",
    "for epoch in range(3):  # Adjust the number of epochs as needed\n",
    "    for batch in train_loader:\n",
    "        input_ids, labels = batch\n",
    "        outputs = model(input_ids, labels=labels)\n",
    "        loss = outputs.loss\n",
    "        optimizer.zero_grad()\n",
    "        loss.backward()\n",
    "        optimizer.step()"
   ]
  },
  {
   "cell_type": "code",
   "execution_count": 34,
   "id": "44ddbd2d",
   "metadata": {},
   "outputs": [
    {
     "name": "stdout",
     "output_type": "stream",
     "text": [
      "Epoch 1/3\n"
     ]
    },
    {
     "data": {
      "application/vnd.jupyter.widget-view+json": {
       "model_id": "266eada5001e44f89d0a9e3c0613cf6d",
       "version_major": 2,
       "version_minor": 0
      },
      "text/plain": [
       "Epoch 1:   0%|          | 0/50 [00:00<?, ?it/s]"
      ]
     },
     "metadata": {},
     "output_type": "display_data"
    },
    {
     "name": "stdout",
     "output_type": "stream",
     "text": [
      "Epoch 2/3\n"
     ]
    },
    {
     "data": {
      "application/vnd.jupyter.widget-view+json": {
       "model_id": "157c06c598f143bda382e89af88bddec",
       "version_major": 2,
       "version_minor": 0
      },
      "text/plain": [
       "Epoch 2:   0%|          | 0/50 [00:00<?, ?it/s]"
      ]
     },
     "metadata": {},
     "output_type": "display_data"
    },
    {
     "name": "stdout",
     "output_type": "stream",
     "text": [
      "Epoch 3/3\n"
     ]
    },
    {
     "data": {
      "application/vnd.jupyter.widget-view+json": {
       "model_id": "f41c960084e84c4899809d237e04bc8f",
       "version_major": 2,
       "version_minor": 0
      },
      "text/plain": [
       "Epoch 3:   0%|          | 0/50 [00:00<?, ?it/s]"
      ]
     },
     "metadata": {},
     "output_type": "display_data"
    }
   ],
   "source": [
    "from tqdm.notebook import tqdm  # Import tqdm for progress bar\n",
    "\n",
    "# Training loop\n",
    "model.train()\n",
    "total_epochs = 3  # Adjust the number of epochs as needed\n",
    "\n",
    "for epoch in range(total_epochs):\n",
    "    print(f\"Epoch {epoch + 1}/{total_epochs}\")\n",
    "    \n",
    "    # Use tqdm for a progress bar over the batches\n",
    "    for batch in tqdm(train_loader, desc=f\"Epoch {epoch + 1}\"):\n",
    "        input_ids, labels = batch\n",
    "        outputs = model(input_ids, labels=labels)\n",
    "        loss = outputs.loss\n",
    "        optimizer.zero_grad()\n",
    "        loss.backward()\n",
    "        optimizer.step()\n"
   ]
  },
  {
   "cell_type": "code",
   "execution_count": 35,
   "id": "3742832c",
   "metadata": {},
   "outputs": [
    {
     "name": "stdout",
     "output_type": "stream",
     "text": [
      "Accuracy: 0.835\n"
     ]
    }
   ],
   "source": [
    "model.eval()\n",
    "with torch.no_grad():\n",
    "    outputs = model(test_inputs, labels=test_labels)\n",
    "    predicted_labels = torch.argmax(outputs.logits, dim=1)\n",
    "\n",
    "accuracy = (predicted_labels == test_labels).sum().item() / len(test_labels)\n",
    "print('Accuracy:', accuracy)\n"
   ]
  },
  {
   "cell_type": "code",
   "execution_count": null,
   "id": "e0621d46",
   "metadata": {},
   "outputs": [],
   "source": [
    "Accuracy 83.5 for 1000 smaples "
   ]
  },
  {
   "cell_type": "code",
   "execution_count": null,
   "id": "1b7442b1",
   "metadata": {},
   "outputs": [],
   "source": []
  },
  {
   "cell_type": "code",
   "execution_count": null,
   "id": "26662aff",
   "metadata": {},
   "outputs": [],
   "source": [
    "Lets incraese the saample size slightly and change the number of epoch s too"
   ]
  },
  {
   "cell_type": "code",
   "execution_count": 36,
   "id": "7a8188e6",
   "metadata": {},
   "outputs": [],
   "source": [
    "data = df.sample(n=1500, axis=0)"
   ]
  },
  {
   "cell_type": "code",
   "execution_count": 39,
   "id": "bb0ecffe",
   "metadata": {},
   "outputs": [
    {
     "data": {
      "text/html": [
       "<div>\n",
       "<style scoped>\n",
       "    .dataframe tbody tr th:only-of-type {\n",
       "        vertical-align: middle;\n",
       "    }\n",
       "\n",
       "    .dataframe tbody tr th {\n",
       "        vertical-align: top;\n",
       "    }\n",
       "\n",
       "    .dataframe thead th {\n",
       "        text-align: right;\n",
       "    }\n",
       "</style>\n",
       "<table border=\"1\" class=\"dataframe\">\n",
       "  <thead>\n",
       "    <tr style=\"text-align: right;\">\n",
       "      <th></th>\n",
       "      <th>is_sarcastic</th>\n",
       "      <th>headline</th>\n",
       "    </tr>\n",
       "  </thead>\n",
       "  <tbody>\n",
       "    <tr>\n",
       "      <th>16318</th>\n",
       "      <td>1</td>\n",
       "      <td>report: u.s. parents' top concern is child dyi...</td>\n",
       "    </tr>\n",
       "    <tr>\n",
       "      <th>26086</th>\n",
       "      <td>1</td>\n",
       "      <td>report: you're far too dumb to be reading the ...</td>\n",
       "    </tr>\n",
       "    <tr>\n",
       "      <th>7730</th>\n",
       "      <td>1</td>\n",
       "      <td>norah jones releases debut album for third time</td>\n",
       "    </tr>\n",
       "    <tr>\n",
       "      <th>10457</th>\n",
       "      <td>1</td>\n",
       "      <td>girl gone wild actually just regular girl, onl...</td>\n",
       "    </tr>\n",
       "    <tr>\n",
       "      <th>19025</th>\n",
       "      <td>0</td>\n",
       "      <td>u.s. bobsled team pays tribute to late gold me...</td>\n",
       "    </tr>\n",
       "    <tr>\n",
       "      <th>...</th>\n",
       "      <td>...</td>\n",
       "      <td>...</td>\n",
       "    </tr>\n",
       "    <tr>\n",
       "      <th>5003</th>\n",
       "      <td>1</td>\n",
       "      <td>tanned, exquisitely coiffed bernie sanders tel...</td>\n",
       "    </tr>\n",
       "    <tr>\n",
       "      <th>4872</th>\n",
       "      <td>1</td>\n",
       "      <td>scarf tragically lost in 15-coat pile-up</td>\n",
       "    </tr>\n",
       "    <tr>\n",
       "      <th>21879</th>\n",
       "      <td>0</td>\n",
       "      <td>why being killed by a lightsaber would be so m...</td>\n",
       "    </tr>\n",
       "    <tr>\n",
       "      <th>20285</th>\n",
       "      <td>0</td>\n",
       "      <td>former senator to run pot company</td>\n",
       "    </tr>\n",
       "    <tr>\n",
       "      <th>20264</th>\n",
       "      <td>0</td>\n",
       "      <td>mack wilds plays a crooked cop in the new fox ...</td>\n",
       "    </tr>\n",
       "  </tbody>\n",
       "</table>\n",
       "<p>1500 rows × 2 columns</p>\n",
       "</div>"
      ],
      "text/plain": [
       "       is_sarcastic                                           headline\n",
       "16318             1  report: u.s. parents' top concern is child dyi...\n",
       "26086             1  report: you're far too dumb to be reading the ...\n",
       "7730              1    norah jones releases debut album for third time\n",
       "10457             1  girl gone wild actually just regular girl, onl...\n",
       "19025             0  u.s. bobsled team pays tribute to late gold me...\n",
       "...             ...                                                ...\n",
       "5003              1  tanned, exquisitely coiffed bernie sanders tel...\n",
       "4872              1           scarf tragically lost in 15-coat pile-up\n",
       "21879             0  why being killed by a lightsaber would be so m...\n",
       "20285             0                  former senator to run pot company\n",
       "20264             0  mack wilds plays a crooked cop in the new fox ...\n",
       "\n",
       "[1500 rows x 2 columns]"
      ]
     },
     "execution_count": 39,
     "metadata": {},
     "output_type": "execute_result"
    }
   ],
   "source": [
    "data"
   ]
  },
  {
   "cell_type": "code",
   "execution_count": 40,
   "id": "5fd04bf9",
   "metadata": {},
   "outputs": [
    {
     "data": {
      "text/plain": [
       "0    771\n",
       "1    729\n",
       "Name: is_sarcastic, dtype: int64"
      ]
     },
     "execution_count": 40,
     "metadata": {},
     "output_type": "execute_result"
    }
   ],
   "source": [
    "data['is_sarcastic'].value_counts()"
   ]
  },
  {
   "cell_type": "code",
   "execution_count": 41,
   "id": "f5ed7a89",
   "metadata": {},
   "outputs": [],
   "source": [
    "from transformers import BertTokenizer\n",
    "# Tokenize the text data\n",
    "tokenizer = BertTokenizer.from_pretrained('bert-base-uncased')\n",
    "encoded_data = tokenizer(data['headline'].tolist(), padding=True, truncation=True, return_tensors='pt')\n",
    "\n",
    "# Prepare labels\n",
    "labels = torch.tensor(data['is_sarcastic'].tolist())"
   ]
  },
  {
   "cell_type": "code",
   "execution_count": 42,
   "id": "31475256",
   "metadata": {},
   "outputs": [],
   "source": [
    "from sklearn.model_selection import train_test_split\n",
    "train_inputs, test_inputs, train_labels, test_labels = train_test_split(encoded_data['input_ids'], labels, test_size=0.2, random_state=42)"
   ]
  },
  {
   "cell_type": "code",
   "execution_count": 43,
   "id": "58db23d1",
   "metadata": {},
   "outputs": [],
   "source": [
    "from torch.utils.data import TensorDataset, DataLoader"
   ]
  },
  {
   "cell_type": "code",
   "execution_count": 44,
   "id": "36f84542",
   "metadata": {},
   "outputs": [],
   "source": [
    "# Define a DataLoader\n",
    "train_dataset = TensorDataset(train_inputs, train_labels)\n",
    "train_loader = DataLoader(train_dataset, batch_size=16, shuffle=True)"
   ]
  },
  {
   "cell_type": "code",
   "execution_count": 45,
   "id": "1876ef47",
   "metadata": {},
   "outputs": [
    {
     "name": "stderr",
     "output_type": "stream",
     "text": [
      "Some weights of the model checkpoint at bert-base-uncased were not used when initializing BertForSequenceClassification: ['cls.predictions.decoder.weight', 'cls.predictions.transform.dense.bias', 'cls.predictions.transform.LayerNorm.weight', 'cls.seq_relationship.bias', 'cls.seq_relationship.weight', 'cls.predictions.transform.LayerNorm.bias', 'cls.predictions.bias', 'cls.predictions.transform.dense.weight']\n",
      "- This IS expected if you are initializing BertForSequenceClassification from the checkpoint of a model trained on another task or with another architecture (e.g. initializing a BertForSequenceClassification model from a BertForPreTraining model).\n",
      "- This IS NOT expected if you are initializing BertForSequenceClassification from the checkpoint of a model that you expect to be exactly identical (initializing a BertForSequenceClassification model from a BertForSequenceClassification model).\n",
      "Some weights of BertForSequenceClassification were not initialized from the model checkpoint at bert-base-uncased and are newly initialized: ['classifier.bias', 'classifier.weight']\n",
      "You should probably TRAIN this model on a down-stream task to be able to use it for predictions and inference.\n"
     ]
    }
   ],
   "source": [
    "from transformers import BertForSequenceClassification\n",
    "# Load the pre-trained model\n",
    "model = BertForSequenceClassification.from_pretrained('bert-base-uncased', num_labels=2)"
   ]
  },
  {
   "cell_type": "code",
   "execution_count": 46,
   "id": "dbed70b0",
   "metadata": {},
   "outputs": [],
   "source": [
    "# Define the loss function and optimizer\n",
    "import torch.nn as nn \n",
    "import torch.optim as optim\n",
    "criterion = nn.CrossEntropyLoss()\n",
    "optimizer = optim.AdamW(model.parameters(), lr=2e-5)"
   ]
  },
  {
   "cell_type": "code",
   "execution_count": 47,
   "id": "c38539bb",
   "metadata": {},
   "outputs": [
    {
     "name": "stdout",
     "output_type": "stream",
     "text": [
      "Epoch 1/5\n"
     ]
    },
    {
     "data": {
      "application/vnd.jupyter.widget-view+json": {
       "model_id": "ce71d25059504666a61ea94a5915f65f",
       "version_major": 2,
       "version_minor": 0
      },
      "text/plain": [
       "Epoch 1:   0%|          | 0/75 [00:00<?, ?it/s]"
      ]
     },
     "metadata": {},
     "output_type": "display_data"
    },
    {
     "name": "stdout",
     "output_type": "stream",
     "text": [
      "Epoch 2/5\n"
     ]
    },
    {
     "data": {
      "application/vnd.jupyter.widget-view+json": {
       "model_id": "6b74c4a9cb5c4649a4cbf221dca04a66",
       "version_major": 2,
       "version_minor": 0
      },
      "text/plain": [
       "Epoch 2:   0%|          | 0/75 [00:00<?, ?it/s]"
      ]
     },
     "metadata": {},
     "output_type": "display_data"
    },
    {
     "name": "stdout",
     "output_type": "stream",
     "text": [
      "Epoch 3/5\n"
     ]
    },
    {
     "data": {
      "application/vnd.jupyter.widget-view+json": {
       "model_id": "a54549ae715747948686ec66ff7fd6cf",
       "version_major": 2,
       "version_minor": 0
      },
      "text/plain": [
       "Epoch 3:   0%|          | 0/75 [00:00<?, ?it/s]"
      ]
     },
     "metadata": {},
     "output_type": "display_data"
    },
    {
     "name": "stdout",
     "output_type": "stream",
     "text": [
      "Epoch 4/5\n"
     ]
    },
    {
     "data": {
      "application/vnd.jupyter.widget-view+json": {
       "model_id": "207b7eee0375436fb1a4c62471afaafb",
       "version_major": 2,
       "version_minor": 0
      },
      "text/plain": [
       "Epoch 4:   0%|          | 0/75 [00:00<?, ?it/s]"
      ]
     },
     "metadata": {},
     "output_type": "display_data"
    },
    {
     "name": "stdout",
     "output_type": "stream",
     "text": [
      "Epoch 5/5\n"
     ]
    },
    {
     "data": {
      "application/vnd.jupyter.widget-view+json": {
       "model_id": "d8018e7864ec4c33b72cb7b7f65b6afc",
       "version_major": 2,
       "version_minor": 0
      },
      "text/plain": [
       "Epoch 5:   0%|          | 0/75 [00:00<?, ?it/s]"
      ]
     },
     "metadata": {},
     "output_type": "display_data"
    }
   ],
   "source": [
    "from tqdm.notebook import tqdm  # Import tqdm for progress bar\n",
    "\n",
    "# Training loop\n",
    "model.train()\n",
    "total_epochs = 5  # Adjust the number of epochs as needed\n",
    "\n",
    "for epoch in range(total_epochs):\n",
    "    print(f\"Epoch {epoch + 1}/{total_epochs}\")\n",
    "    \n",
    "    # Use tqdm for a progress bar over the batches\n",
    "    for batch in tqdm(train_loader, desc=f\"Epoch {epoch + 1}\"):\n",
    "        input_ids, labels = batch\n",
    "        outputs = model(input_ids, labels=labels)\n",
    "        loss = outputs.loss\n",
    "        optimizer.zero_grad()\n",
    "        loss.backward()\n",
    "        optimizer.step()\n"
   ]
  },
  {
   "cell_type": "code",
   "execution_count": 48,
   "id": "65c57532",
   "metadata": {},
   "outputs": [
    {
     "name": "stdout",
     "output_type": "stream",
     "text": [
      "Accuracy: 0.8866666666666667\n"
     ]
    }
   ],
   "source": [
    "model.eval()\n",
    "with torch.no_grad():\n",
    "    outputs = model(test_inputs, labels=test_labels)\n",
    "    predicted_labels = torch.argmax(outputs.logits, dim=1)\n",
    "\n",
    "accuracy = (predicted_labels == test_labels).sum().item() / len(test_labels)\n",
    "print('Accuracy:', accuracy)\n"
   ]
  },
  {
   "cell_type": "code",
   "execution_count": null,
   "id": "444e8b9d",
   "metadata": {},
   "outputs": [],
   "source": [
    "## increasinc eoch and accuray defineitel helpwd "
   ]
  },
  {
   "cell_type": "code",
   "execution_count": 59,
   "id": "624c3450",
   "metadata": {},
   "outputs": [],
   "source": [
    "data = df.sample(n=2500, axis=0,random_state=42)"
   ]
  },
  {
   "cell_type": "code",
   "execution_count": 136,
   "id": "6977f22e",
   "metadata": {},
   "outputs": [
    {
     "data": {
      "text/html": [
       "<div>\n",
       "<style scoped>\n",
       "    .dataframe tbody tr th:only-of-type {\n",
       "        vertical-align: middle;\n",
       "    }\n",
       "\n",
       "    .dataframe tbody tr th {\n",
       "        vertical-align: top;\n",
       "    }\n",
       "\n",
       "    .dataframe thead th {\n",
       "        text-align: right;\n",
       "    }\n",
       "</style>\n",
       "<table border=\"1\" class=\"dataframe\">\n",
       "  <thead>\n",
       "    <tr style=\"text-align: right;\">\n",
       "      <th></th>\n",
       "      <th>is_sarcastic</th>\n",
       "      <th>headline</th>\n",
       "    </tr>\n",
       "  </thead>\n",
       "  <tbody>\n",
       "    <tr>\n",
       "      <th>27927</th>\n",
       "      <td>0</td>\n",
       "      <td>states slow to shut down weak teacher educatio...</td>\n",
       "    </tr>\n",
       "    <tr>\n",
       "      <th>1660</th>\n",
       "      <td>1</td>\n",
       "      <td>drone places fresh kill on steps of white house</td>\n",
       "    </tr>\n",
       "    <tr>\n",
       "      <th>96</th>\n",
       "      <td>1</td>\n",
       "      <td>report: majority of instances of people gettin...</td>\n",
       "    </tr>\n",
       "    <tr>\n",
       "      <th>6237</th>\n",
       "      <td>1</td>\n",
       "      <td>sole remaining lung filled with rich, satisfyi...</td>\n",
       "    </tr>\n",
       "    <tr>\n",
       "      <th>6650</th>\n",
       "      <td>0</td>\n",
       "      <td>the gop's stockholm syndrome</td>\n",
       "    </tr>\n",
       "    <tr>\n",
       "      <th>...</th>\n",
       "      <td>...</td>\n",
       "      <td>...</td>\n",
       "    </tr>\n",
       "    <tr>\n",
       "      <th>14007</th>\n",
       "      <td>0</td>\n",
       "      <td>hong kong actor wears 'brown face,' highlights...</td>\n",
       "    </tr>\n",
       "    <tr>\n",
       "      <th>18968</th>\n",
       "      <td>0</td>\n",
       "      <td>why i want to live like i'm 40 in my 20s</td>\n",
       "    </tr>\n",
       "    <tr>\n",
       "      <th>12064</th>\n",
       "      <td>0</td>\n",
       "      <td>the president's mission to garner sympathy for...</td>\n",
       "    </tr>\n",
       "    <tr>\n",
       "      <th>2408</th>\n",
       "      <td>0</td>\n",
       "      <td>kansas city-area waiter gets world series tick...</td>\n",
       "    </tr>\n",
       "    <tr>\n",
       "      <th>16183</th>\n",
       "      <td>1</td>\n",
       "      <td>'i'm going to hell for laughing at this meme,'...</td>\n",
       "    </tr>\n",
       "  </tbody>\n",
       "</table>\n",
       "<p>2500 rows × 2 columns</p>\n",
       "</div>"
      ],
      "text/plain": [
       "       is_sarcastic                                           headline\n",
       "27927             0  states slow to shut down weak teacher educatio...\n",
       "1660              1    drone places fresh kill on steps of white house\n",
       "96                1  report: majority of instances of people gettin...\n",
       "6237              1  sole remaining lung filled with rich, satisfyi...\n",
       "6650              0                       the gop's stockholm syndrome\n",
       "...             ...                                                ...\n",
       "14007             0  hong kong actor wears 'brown face,' highlights...\n",
       "18968             0           why i want to live like i'm 40 in my 20s\n",
       "12064             0  the president's mission to garner sympathy for...\n",
       "2408              0  kansas city-area waiter gets world series tick...\n",
       "16183             1  'i'm going to hell for laughing at this meme,'...\n",
       "\n",
       "[2500 rows x 2 columns]"
      ]
     },
     "execution_count": 136,
     "metadata": {},
     "output_type": "execute_result"
    }
   ],
   "source": [
    "data"
   ]
  },
  {
   "cell_type": "code",
   "execution_count": 137,
   "id": "519cf3e3",
   "metadata": {},
   "outputs": [],
   "source": [
    "from transformers import BertTokenizer\n",
    "# Tokenize the text data\n",
    "tokenizer = BertTokenizer.from_pretrained('bert-base-uncased')\n",
    "encoded_data = tokenizer(data['headline'].tolist(), padding=True, truncation=True, return_tensors='pt')\n",
    "\n",
    "# Prepare labels\n",
    "labels = torch.tensor(data['is_sarcastic'].tolist())"
   ]
  },
  {
   "cell_type": "code",
   "execution_count": 138,
   "id": "162d8fcb",
   "metadata": {},
   "outputs": [
    {
     "data": {
      "text/plain": [
       "3"
      ]
     },
     "execution_count": 138,
     "metadata": {},
     "output_type": "execute_result"
    }
   ],
   "source": [
    "len(encoded_data)"
   ]
  },
  {
   "cell_type": "code",
   "execution_count": 61,
   "id": "5089ad87",
   "metadata": {},
   "outputs": [],
   "source": [
    "from sklearn.model_selection import train_test_split\n",
    "train_inputs, test_inputs, train_labels, test_labels = train_test_split(encoded_data['input_ids'], labels, test_size=0.2, random_state=42)"
   ]
  },
  {
   "cell_type": "code",
   "execution_count": null,
   "id": "081ac91e",
   "metadata": {},
   "outputs": [],
   "source": []
  },
  {
   "cell_type": "code",
   "execution_count": 62,
   "id": "e539d60f",
   "metadata": {},
   "outputs": [],
   "source": [
    "from torch.utils.data import TensorDataset, DataLoader"
   ]
  },
  {
   "cell_type": "code",
   "execution_count": 63,
   "id": "5779dd6c",
   "metadata": {},
   "outputs": [],
   "source": [
    "# Define a DataLoader\n",
    "train_dataset = TensorDataset(train_inputs, train_labels)\n",
    "train_loader = DataLoader(train_dataset, batch_size=16, shuffle=True)"
   ]
  },
  {
   "cell_type": "code",
   "execution_count": 64,
   "id": "ccf62287",
   "metadata": {},
   "outputs": [
    {
     "name": "stderr",
     "output_type": "stream",
     "text": [
      "Some weights of the model checkpoint at bert-base-uncased were not used when initializing BertForSequenceClassification: ['cls.predictions.decoder.weight', 'cls.predictions.transform.dense.bias', 'cls.predictions.transform.LayerNorm.weight', 'cls.seq_relationship.bias', 'cls.seq_relationship.weight', 'cls.predictions.transform.LayerNorm.bias', 'cls.predictions.bias', 'cls.predictions.transform.dense.weight']\n",
      "- This IS expected if you are initializing BertForSequenceClassification from the checkpoint of a model trained on another task or with another architecture (e.g. initializing a BertForSequenceClassification model from a BertForPreTraining model).\n",
      "- This IS NOT expected if you are initializing BertForSequenceClassification from the checkpoint of a model that you expect to be exactly identical (initializing a BertForSequenceClassification model from a BertForSequenceClassification model).\n",
      "Some weights of BertForSequenceClassification were not initialized from the model checkpoint at bert-base-uncased and are newly initialized: ['classifier.bias', 'classifier.weight']\n",
      "You should probably TRAIN this model on a down-stream task to be able to use it for predictions and inference.\n"
     ]
    }
   ],
   "source": [
    "from transformers import BertForSequenceClassification\n",
    "# Load the pre-trained model\n",
    "model = BertForSequenceClassification.from_pretrained('bert-base-uncased', num_labels=2)"
   ]
  },
  {
   "cell_type": "code",
   "execution_count": 65,
   "id": "0a803859",
   "metadata": {},
   "outputs": [],
   "source": [
    "# Define the loss function and optimizer\n",
    "import torch.nn as nn \n",
    "import torch.optim as optim\n",
    "criterion = nn.CrossEntropyLoss()\n",
    "optimizer = optim.AdamW(model.parameters(), lr=2e-5)"
   ]
  },
  {
   "cell_type": "code",
   "execution_count": 66,
   "id": "89886eee",
   "metadata": {},
   "outputs": [
    {
     "name": "stdout",
     "output_type": "stream",
     "text": [
      "Epoch 1/5\n"
     ]
    },
    {
     "data": {
      "application/vnd.jupyter.widget-view+json": {
       "model_id": "4ac147b9d09a430a98c91f2e01254f3c",
       "version_major": 2,
       "version_minor": 0
      },
      "text/plain": [
       "Epoch 1:   0%|          | 0/125 [00:00<?, ?it/s]"
      ]
     },
     "metadata": {},
     "output_type": "display_data"
    },
    {
     "name": "stdout",
     "output_type": "stream",
     "text": [
      "Epoch 2/5\n"
     ]
    },
    {
     "data": {
      "application/vnd.jupyter.widget-view+json": {
       "model_id": "f6e3837a27c74640b271f0117842d090",
       "version_major": 2,
       "version_minor": 0
      },
      "text/plain": [
       "Epoch 2:   0%|          | 0/125 [00:00<?, ?it/s]"
      ]
     },
     "metadata": {},
     "output_type": "display_data"
    },
    {
     "name": "stdout",
     "output_type": "stream",
     "text": [
      "Epoch 3/5\n"
     ]
    },
    {
     "data": {
      "application/vnd.jupyter.widget-view+json": {
       "model_id": "520c8aa0bc7c4d5f9d80148fc1211643",
       "version_major": 2,
       "version_minor": 0
      },
      "text/plain": [
       "Epoch 3:   0%|          | 0/125 [00:00<?, ?it/s]"
      ]
     },
     "metadata": {},
     "output_type": "display_data"
    },
    {
     "name": "stdout",
     "output_type": "stream",
     "text": [
      "Epoch 4/5\n"
     ]
    },
    {
     "data": {
      "application/vnd.jupyter.widget-view+json": {
       "model_id": "9394c90c8f544f46879b156c3a5d37ab",
       "version_major": 2,
       "version_minor": 0
      },
      "text/plain": [
       "Epoch 4:   0%|          | 0/125 [00:00<?, ?it/s]"
      ]
     },
     "metadata": {},
     "output_type": "display_data"
    },
    {
     "name": "stdout",
     "output_type": "stream",
     "text": [
      "Epoch 5/5\n"
     ]
    },
    {
     "data": {
      "application/vnd.jupyter.widget-view+json": {
       "model_id": "0b1307b28c1d4509b427d7fe7303b886",
       "version_major": 2,
       "version_minor": 0
      },
      "text/plain": [
       "Epoch 5:   0%|          | 0/125 [00:00<?, ?it/s]"
      ]
     },
     "metadata": {},
     "output_type": "display_data"
    }
   ],
   "source": [
    "from tqdm.notebook import tqdm  # Import tqdm for progress bar\n",
    "\n",
    "# Training loop\n",
    "model.train()\n",
    "total_epochs = 5  # Adjust the number of epochs as needed\n",
    "\n",
    "for epoch in range(total_epochs):\n",
    "    print(f\"Epoch {epoch + 1}/{total_epochs}\")\n",
    "    \n",
    "    # Use tqdm for a progress bar over the batches\n",
    "    for batch in tqdm(train_loader, desc=f\"Epoch {epoch + 1}\"):\n",
    "        input_ids, labels = batch\n",
    "        outputs = model(input_ids, labels=labels)\n",
    "        loss = outputs.loss\n",
    "        optimizer.zero_grad()\n",
    "        loss.backward()\n",
    "        optimizer.step()\n"
   ]
  },
  {
   "cell_type": "code",
   "execution_count": 67,
   "id": "65279c13",
   "metadata": {},
   "outputs": [
    {
     "name": "stdout",
     "output_type": "stream",
     "text": [
      "Accuracy: 0.88\n"
     ]
    }
   ],
   "source": [
    "model.eval()\n",
    "with torch.no_grad():\n",
    "    outputs = model(test_inputs, labels=test_labels)\n",
    "    predicted_labels = torch.argmax(outputs.logits, dim=1)\n",
    "\n",
    "accuracy = (predicted_labels == test_labels).sum().item() / len(test_labels)\n",
    "print('Accuracy:', accuracy)\n"
   ]
  },
  {
   "cell_type": "code",
   "execution_count": 68,
   "id": "d2a5ce9f",
   "metadata": {},
   "outputs": [
    {
     "name": "stdout",
     "output_type": "stream",
     "text": [
      "F1 Score: 0.8695652173913043\n",
      "Precision: 0.8849557522123894\n",
      "Recall: 0.8547008547008547\n"
     ]
    }
   ],
   "source": [
    "from sklearn.metrics import f1_score, precision_score, recall_score\n",
    "\n",
    "# Calculate F1 score\n",
    "f1 = f1_score(test_labels, predicted_labels)\n",
    "\n",
    "# Calculate precision\n",
    "precision = precision_score(test_labels, predicted_labels)\n",
    "\n",
    "# Calculate recall\n",
    "recall = recall_score(test_labels, predicted_labels)\n",
    "\n",
    "# Print the scores\n",
    "print('F1 Score:', f1)\n",
    "print('Precision:', precision)\n",
    "print('Recall:', recall)\n"
   ]
  },
  {
   "cell_type": "code",
   "execution_count": 69,
   "id": "4c9f1795",
   "metadata": {},
   "outputs": [
    {
     "data": {
      "image/png": "[encoded data removed]",
      "text/plain": [
       "<Figure size 800x600 with 2 Axes>"
      ]
     },
     "metadata": {},
     "output_type": "display_data"
    }
   ],
   "source": [
    "from sklearn.metrics import confusion_matrix\n",
    "import seaborn as sns\n",
    "import matplotlib.pyplot as plt\n",
    "\n",
    "# Calculate the confusion matrix\n",
    "conf_matrix = confusion_matrix(test_labels, predicted_labels)\n",
    "\n",
    "# Display the confusion matrix as a heatmap\n",
    "plt.figure(figsize=(8, 6))\n",
    "sns.heatmap(conf_matrix, annot=True, fmt='d', cmap='Blues',\n",
    "            xticklabels=['Non-Sarcastic', 'Sarcastic'],\n",
    "            yticklabels=['Non-Sarcastic', 'Sarcastic'])\n",
    "plt.xlabel('Predicted')\n",
    "plt.ylabel('Actual')\n",
    "plt.title('Confusion Matrix')\n",
    "plt.show()\n"
   ]
  },
  {
   "cell_type": "code",
   "execution_count": null,
   "id": "8f8e97d2",
   "metadata": {},
   "outputs": [],
   "source": [
    "#Testing our model on the compltee dataset for new sheadlines "
   ]
  },
  {
   "cell_type": "code",
   "execution_count": 70,
   "id": "6fea589e",
   "metadata": {},
   "outputs": [],
   "source": [
    "# Assuming df is your complete DataFrame\n",
    "encoded_data_complete = tokenizer(df['headline'].tolist(), padding=True, truncation=True, return_tensors='pt')\n"
   ]
  },
  {
   "cell_type": "code",
   "execution_count": 71,
   "id": "552a23f3",
   "metadata": {},
   "outputs": [],
   "source": [
    "# Assuming df is your complete DataFrame\n",
    "labels_complete = torch.tensor(df['is_sarcastic'].tolist())\n"
   ]
  },
  {
   "cell_type": "code",
   "execution_count": 74,
   "id": "67015e5d",
   "metadata": {},
   "outputs": [],
   "source": [
    "# Assuming df is your complete DataFrame\n",
    "complete_dataset = TensorDataset(encoded_data_complete['input_ids'], labels_complete)\n",
    "complete_loader = DataLoader(complete_dataset, batch_size=64, shuffle=False)  \n"
   ]
  },
  {
   "cell_type": "code",
   "execution_count": 75,
   "id": "1ee129e0",
   "metadata": {},
   "outputs": [
    {
     "data": {
      "application/vnd.jupyter.widget-view+json": {
       "model_id": "de5b55d951f847c7b46700140f4eff61",
       "version_major": 2,
       "version_minor": 0
      },
      "text/plain": [
       "Testing:   0%|          | 0/448 [00:00<?, ?it/s]"
      ]
     },
     "metadata": {},
     "output_type": "display_data"
    }
   ],
   "source": [
    "model.eval()\n",
    "predicted_labels_complete = []\n",
    "\n",
    "with torch.no_grad():\n",
    "    for batch in tqdm(complete_loader, desc='Testing'):\n",
    "        input_ids, labels = batch\n",
    "        outputs = model(input_ids)\n",
    "        predicted_labels = torch.argmax(outputs.logits, dim=1)\n",
    "        predicted_labels_complete.extend(predicted_labels.tolist())\n",
    "\n",
    "predicted_labels_complete = torch.tensor(predicted_labels_complete)\n"
   ]
  },
  {
   "cell_type": "code",
   "execution_count": 77,
   "id": "4e5fb145",
   "metadata": {},
   "outputs": [
    {
     "name": "stdout",
     "output_type": "stream",
     "text": [
      "Accuracy: 0.8805339110381215\n",
      "F1 Score: 0.8741117125078244\n",
      "Precision: 0.877634011090573\n",
      "Recall: 0.8706175737127769\n"
     ]
    }
   ],
   "source": [
    "from sklearn.metrics import accuracy_score, f1_score, precision_score, recall_score\n",
    "\n",
    "# Convert the true labels (labels_complete) to a numpy array\n",
    "true_labels = labels_complete.numpy()\n",
    "\n",
    "# Convert the predicted labels (predicted_labels_complete) to a numpy array\n",
    "predicted_labels = predicted_labels_complete.numpy()\n",
    "\n",
    "# Calculate accuracy\n",
    "accuracy = accuracy_score(true_labels, predicted_labels)\n",
    "\n",
    "# Calculate F1 score\n",
    "f1 = f1_score(true_labels, predicted_labels)\n",
    "\n",
    "# Calculate precision\n",
    "precision = precision_score(true_labels, predicted_labels)\n",
    "\n",
    "# Calculate recall\n",
    "recall = recall_score(true_labels, predicted_labels)\n",
    "\n",
    "# Print the scores\n",
    "print('Accuracy:', accuracy)\n",
    "print('F1 Score:', f1)\n",
    "print('Precision:', precision)\n",
    "print('Recall:', recall)\n"
   ]
  },
  {
   "cell_type": "code",
   "execution_count": 78,
   "id": "0c6b68ba",
   "metadata": {},
   "outputs": [
    {
     "data": {
      "image/png": "[encoded data removed]",
      "text/plain": [
       "<Figure size 800x600 with 2 Axes>"
      ]
     },
     "metadata": {},
     "output_type": "display_data"
    }
   ],
   "source": [
    "from sklearn.metrics import confusion_matrix\n",
    "import seaborn as sns\n",
    "import matplotlib.pyplot as plt\n",
    "\n",
    "# Calculate the confusion matrix\n",
    "conf_matrix_complete = confusion_matrix(true_labels, predicted_labels)\n",
    "\n",
    "# Display the confusion matrix as a heatmap\n",
    "plt.figure(figsize=(8, 6))\n",
    "sns.heatmap(conf_matrix_complete, annot=True, fmt='d', cmap='Blues',\n",
    "            xticklabels=['Non-Sarcastic', 'Sarcastic'],\n",
    "            yticklabels=['Non-Sarcastic', 'Sarcastic'])\n",
    "plt.xlabel('Predicted')\n",
    "plt.ylabel('Actual')\n",
    "plt.title('Confusion Matrix for Complete Dataset')\n",
    "plt.show()\n"
   ]
  },
  {
   "cell_type": "code",
   "execution_count": null,
   "id": "90a8c5bd",
   "metadata": {},
   "outputs": [],
   "source": [
    "### using the above pretrained model on the reddit dadastset "
   ]
  },
  {
   "cell_type": "code",
   "execution_count": 2,
   "id": "e06be1f8",
   "metadata": {},
   "outputs": [],
   "source": [
    "import pandas as pd\n",
    "df_reddit = pd.read_csv('/Users/suchirnaik/Downloads/train-balanced-sarcasm_1.csv')\n",
    "\n"
   ]
  },
  {
   "cell_type": "code",
   "execution_count": 100,
   "id": "75c1a79b",
   "metadata": {},
   "outputs": [],
   "source": [
    "# Select 500 samples for each label\n",
    "desired_samples_per_label = 100\n",
    "\n",
    "# Select 500 samples labeled as 1\n",
    "samples_label_1 = df_reddit[df_reddit['label'] == 1].sample(n=desired_samples_per_label, random_state=42)\n",
    "\n",
    "# Select 500 samples labeled as 0\n",
    "samples_label_0 = df_reddit[df_reddit['label'] == 0].sample(n=desired_samples_per_label, random_state=42)\n",
    "\n",
    "# Concatenate the selected samples\n",
    "reddit_data = pd.concat([samples_label_1, samples_label_0], ignore_index=True)\n"
   ]
  },
  {
   "cell_type": "code",
   "execution_count": 101,
   "id": "f9b7c045",
   "metadata": {},
   "outputs": [
    {
     "data": {
      "text/html": [
       "<div>\n",
       "<style scoped>\n",
       "    .dataframe tbody tr th:only-of-type {\n",
       "        vertical-align: middle;\n",
       "    }\n",
       "\n",
       "    .dataframe tbody tr th {\n",
       "        vertical-align: top;\n",
       "    }\n",
       "\n",
       "    .dataframe thead th {\n",
       "        text-align: right;\n",
       "    }\n",
       "</style>\n",
       "<table border=\"1\" class=\"dataframe\">\n",
       "  <thead>\n",
       "    <tr style=\"text-align: right;\">\n",
       "      <th></th>\n",
       "      <th>label</th>\n",
       "      <th>comment</th>\n",
       "      <th>author</th>\n",
       "      <th>subreddit</th>\n",
       "      <th>score</th>\n",
       "      <th>ups</th>\n",
       "      <th>downs</th>\n",
       "      <th>date</th>\n",
       "      <th>created_utc</th>\n",
       "      <th>parent_comment</th>\n",
       "    </tr>\n",
       "  </thead>\n",
       "  <tbody>\n",
       "    <tr>\n",
       "      <th>0</th>\n",
       "      <td>1</td>\n",
       "      <td>If you were made of steel, you could get the l...</td>\n",
       "      <td>appletart</td>\n",
       "      <td>bicycletouring</td>\n",
       "      <td>1</td>\n",
       "      <td>1</td>\n",
       "      <td>0</td>\n",
       "      <td>2014-06</td>\n",
       "      <td>2014-06-01 03:00:18</td>\n",
       "      <td>If you don't spend 1100 dollars minimum on you...</td>\n",
       "    </tr>\n",
       "    <tr>\n",
       "      <th>1</th>\n",
       "      <td>1</td>\n",
       "      <td>Here, have an</td>\n",
       "      <td>romulusnr</td>\n",
       "      <td>boston</td>\n",
       "      <td>1</td>\n",
       "      <td>1</td>\n",
       "      <td>0</td>\n",
       "      <td>2015-09</td>\n",
       "      <td>2015-09-10 01:25:40</td>\n",
       "      <td>As I said It's just one bad apple, man. It's j...</td>\n",
       "    </tr>\n",
       "    <tr>\n",
       "      <th>2</th>\n",
       "      <td>1</td>\n",
       "      <td>I think you're referring to S. Chinderpool, wh...</td>\n",
       "      <td>Sphenoidman</td>\n",
       "      <td>Cricket</td>\n",
       "      <td>1</td>\n",
       "      <td>1</td>\n",
       "      <td>0</td>\n",
       "      <td>2016-01</td>\n",
       "      <td>2016-01-23 23:26:00</td>\n",
       "      <td>So that's the last player gone from Brian Lara...</td>\n",
       "    </tr>\n",
       "    <tr>\n",
       "      <th>3</th>\n",
       "      <td>1</td>\n",
       "      <td>Fucking rigged bullshit</td>\n",
       "      <td>cowboysfan88</td>\n",
       "      <td>nba</td>\n",
       "      <td>5</td>\n",
       "      <td>5</td>\n",
       "      <td>0</td>\n",
       "      <td>2016-07</td>\n",
       "      <td>2016-07-15 05:59:09</td>\n",
       "      <td>Dennis Rodman attempted to have the number 69 ...</td>\n",
       "    </tr>\n",
       "    <tr>\n",
       "      <th>4</th>\n",
       "      <td>1</td>\n",
       "      <td>That's enough to convince me!</td>\n",
       "      <td>JaquiskiTaterTartt</td>\n",
       "      <td>49ers</td>\n",
       "      <td>1</td>\n",
       "      <td>1</td>\n",
       "      <td>0</td>\n",
       "      <td>2015-08</td>\n",
       "      <td>2015-08-21 23:49:20</td>\n",
       "      <td>EA: \"Alright guys, people are tired of the sam...</td>\n",
       "    </tr>\n",
       "    <tr>\n",
       "      <th>...</th>\n",
       "      <td>...</td>\n",
       "      <td>...</td>\n",
       "      <td>...</td>\n",
       "      <td>...</td>\n",
       "      <td>...</td>\n",
       "      <td>...</td>\n",
       "      <td>...</td>\n",
       "      <td>...</td>\n",
       "      <td>...</td>\n",
       "      <td>...</td>\n",
       "    </tr>\n",
       "    <tr>\n",
       "      <th>195</th>\n",
       "      <td>0</td>\n",
       "      <td>I think that nearly all anime fans will recomm...</td>\n",
       "      <td>903124</td>\n",
       "      <td>politics</td>\n",
       "      <td>1</td>\n",
       "      <td>1</td>\n",
       "      <td>0</td>\n",
       "      <td>2016-08</td>\n",
       "      <td>2016-08-05 17:08:23</td>\n",
       "      <td>I haven't watched anime since Desert Punk... I...</td>\n",
       "    </tr>\n",
       "    <tr>\n",
       "      <th>196</th>\n",
       "      <td>0</td>\n",
       "      <td>Holy fuck what</td>\n",
       "      <td>letsgoiowa</td>\n",
       "      <td>AskReddit</td>\n",
       "      <td>1</td>\n",
       "      <td>1</td>\n",
       "      <td>0</td>\n",
       "      <td>2016-07</td>\n",
       "      <td>2016-07-02 04:46:38</td>\n",
       "      <td>Move to Canada. We tax EVERYTHING. 12% (except...</td>\n",
       "    </tr>\n",
       "    <tr>\n",
       "      <th>197</th>\n",
       "      <td>0</td>\n",
       "      <td>Gotta love that conservative media brainwashing.</td>\n",
       "      <td>PBFT</td>\n",
       "      <td>politics</td>\n",
       "      <td>3</td>\n",
       "      <td>3</td>\n",
       "      <td>0</td>\n",
       "      <td>2016-07</td>\n",
       "      <td>2016-07-15 14:39:31</td>\n",
       "      <td>You'd eat shit from their pockets if they told...</td>\n",
       "    </tr>\n",
       "    <tr>\n",
       "      <th>198</th>\n",
       "      <td>0</td>\n",
       "      <td>hmmm try uninstalling the current driver resta...</td>\n",
       "      <td>Rope_And_Chair</td>\n",
       "      <td>techsupport</td>\n",
       "      <td>1</td>\n",
       "      <td>1</td>\n",
       "      <td>0</td>\n",
       "      <td>2014-04</td>\n",
       "      <td>2014-04-15 23:37:56</td>\n",
       "      <td>OK so right after step 12, I got a error messa...</td>\n",
       "    </tr>\n",
       "    <tr>\n",
       "      <th>199</th>\n",
       "      <td>0</td>\n",
       "      <td>If a country is not recognized, by the UN, why...</td>\n",
       "      <td>2dollarb</td>\n",
       "      <td>worldnews</td>\n",
       "      <td>-1</td>\n",
       "      <td>-1</td>\n",
       "      <td>0</td>\n",
       "      <td>2014-08</td>\n",
       "      <td>2014-08-01 22:57:15</td>\n",
       "      <td>More illegal settlements and a complete disreg...</td>\n",
       "    </tr>\n",
       "  </tbody>\n",
       "</table>\n",
       "<p>200 rows × 10 columns</p>\n",
       "</div>"
      ],
      "text/plain": [
       "     label                                            comment  \\\n",
       "0        1  If you were made of steel, you could get the l...   \n",
       "1        1                                      Here, have an   \n",
       "2        1  I think you're referring to S. Chinderpool, wh...   \n",
       "3        1                            Fucking rigged bullshit   \n",
       "4        1                      That's enough to convince me!   \n",
       "..     ...                                                ...   \n",
       "195      0  I think that nearly all anime fans will recomm...   \n",
       "196      0                                     Holy fuck what   \n",
       "197      0   Gotta love that conservative media brainwashing.   \n",
       "198      0  hmmm try uninstalling the current driver resta...   \n",
       "199      0  If a country is not recognized, by the UN, why...   \n",
       "\n",
       "                 author       subreddit  score  ups  downs     date  \\\n",
       "0             appletart  bicycletouring      1    1      0  2014-06   \n",
       "1             romulusnr          boston      1    1      0  2015-09   \n",
       "2           Sphenoidman         Cricket      1    1      0  2016-01   \n",
       "3          cowboysfan88             nba      5    5      0  2016-07   \n",
       "4    JaquiskiTaterTartt           49ers      1    1      0  2015-08   \n",
       "..                  ...             ...    ...  ...    ...      ...   \n",
       "195              903124        politics      1    1      0  2016-08   \n",
       "196          letsgoiowa       AskReddit      1    1      0  2016-07   \n",
       "197                PBFT        politics      3    3      0  2016-07   \n",
       "198      Rope_And_Chair     techsupport      1    1      0  2014-04   \n",
       "199            2dollarb       worldnews     -1   -1      0  2014-08   \n",
       "\n",
       "             created_utc                                     parent_comment  \n",
       "0    2014-06-01 03:00:18  If you don't spend 1100 dollars minimum on you...  \n",
       "1    2015-09-10 01:25:40  As I said It's just one bad apple, man. It's j...  \n",
       "2    2016-01-23 23:26:00  So that's the last player gone from Brian Lara...  \n",
       "3    2016-07-15 05:59:09  Dennis Rodman attempted to have the number 69 ...  \n",
       "4    2015-08-21 23:49:20  EA: \"Alright guys, people are tired of the sam...  \n",
       "..                   ...                                                ...  \n",
       "195  2016-08-05 17:08:23  I haven't watched anime since Desert Punk... I...  \n",
       "196  2016-07-02 04:46:38  Move to Canada. We tax EVERYTHING. 12% (except...  \n",
       "197  2016-07-15 14:39:31  You'd eat shit from their pockets if they told...  \n",
       "198  2014-04-15 23:37:56  OK so right after step 12, I got a error messa...  \n",
       "199  2014-08-01 22:57:15  More illegal settlements and a complete disreg...  \n",
       "\n",
       "[200 rows x 10 columns]"
      ]
     },
     "execution_count": 101,
     "metadata": {},
     "output_type": "execute_result"
    }
   ],
   "source": [
    "reddit_data"
   ]
  },
  {
   "cell_type": "code",
   "execution_count": 102,
   "id": "2476f88c",
   "metadata": {},
   "outputs": [],
   "source": [
    "reddit_data = reddit_data[['label','comment','parent_comment']]"
   ]
  },
  {
   "cell_type": "code",
   "execution_count": 103,
   "id": "5c431dce",
   "metadata": {},
   "outputs": [
    {
     "data": {
      "text/html": [
       "<div>\n",
       "<style scoped>\n",
       "    .dataframe tbody tr th:only-of-type {\n",
       "        vertical-align: middle;\n",
       "    }\n",
       "\n",
       "    .dataframe tbody tr th {\n",
       "        vertical-align: top;\n",
       "    }\n",
       "\n",
       "    .dataframe thead th {\n",
       "        text-align: right;\n",
       "    }\n",
       "</style>\n",
       "<table border=\"1\" class=\"dataframe\">\n",
       "  <thead>\n",
       "    <tr style=\"text-align: right;\">\n",
       "      <th></th>\n",
       "      <th>label</th>\n",
       "      <th>comment</th>\n",
       "      <th>parent_comment</th>\n",
       "    </tr>\n",
       "  </thead>\n",
       "  <tbody>\n",
       "    <tr>\n",
       "      <th>0</th>\n",
       "      <td>1</td>\n",
       "      <td>If you were made of steel, you could get the l...</td>\n",
       "      <td>If you don't spend 1100 dollars minimum on you...</td>\n",
       "    </tr>\n",
       "    <tr>\n",
       "      <th>1</th>\n",
       "      <td>1</td>\n",
       "      <td>Here, have an</td>\n",
       "      <td>As I said It's just one bad apple, man. It's j...</td>\n",
       "    </tr>\n",
       "    <tr>\n",
       "      <th>2</th>\n",
       "      <td>1</td>\n",
       "      <td>I think you're referring to S. Chinderpool, wh...</td>\n",
       "      <td>So that's the last player gone from Brian Lara...</td>\n",
       "    </tr>\n",
       "    <tr>\n",
       "      <th>3</th>\n",
       "      <td>1</td>\n",
       "      <td>Fucking rigged bullshit</td>\n",
       "      <td>Dennis Rodman attempted to have the number 69 ...</td>\n",
       "    </tr>\n",
       "    <tr>\n",
       "      <th>4</th>\n",
       "      <td>1</td>\n",
       "      <td>That's enough to convince me!</td>\n",
       "      <td>EA: \"Alright guys, people are tired of the sam...</td>\n",
       "    </tr>\n",
       "    <tr>\n",
       "      <th>...</th>\n",
       "      <td>...</td>\n",
       "      <td>...</td>\n",
       "      <td>...</td>\n",
       "    </tr>\n",
       "    <tr>\n",
       "      <th>195</th>\n",
       "      <td>0</td>\n",
       "      <td>I think that nearly all anime fans will recomm...</td>\n",
       "      <td>I haven't watched anime since Desert Punk... I...</td>\n",
       "    </tr>\n",
       "    <tr>\n",
       "      <th>196</th>\n",
       "      <td>0</td>\n",
       "      <td>Holy fuck what</td>\n",
       "      <td>Move to Canada. We tax EVERYTHING. 12% (except...</td>\n",
       "    </tr>\n",
       "    <tr>\n",
       "      <th>197</th>\n",
       "      <td>0</td>\n",
       "      <td>Gotta love that conservative media brainwashing.</td>\n",
       "      <td>You'd eat shit from their pockets if they told...</td>\n",
       "    </tr>\n",
       "    <tr>\n",
       "      <th>198</th>\n",
       "      <td>0</td>\n",
       "      <td>hmmm try uninstalling the current driver resta...</td>\n",
       "      <td>OK so right after step 12, I got a error messa...</td>\n",
       "    </tr>\n",
       "    <tr>\n",
       "      <th>199</th>\n",
       "      <td>0</td>\n",
       "      <td>If a country is not recognized, by the UN, why...</td>\n",
       "      <td>More illegal settlements and a complete disreg...</td>\n",
       "    </tr>\n",
       "  </tbody>\n",
       "</table>\n",
       "<p>200 rows × 3 columns</p>\n",
       "</div>"
      ],
      "text/plain": [
       "     label                                            comment  \\\n",
       "0        1  If you were made of steel, you could get the l...   \n",
       "1        1                                      Here, have an   \n",
       "2        1  I think you're referring to S. Chinderpool, wh...   \n",
       "3        1                            Fucking rigged bullshit   \n",
       "4        1                      That's enough to convince me!   \n",
       "..     ...                                                ...   \n",
       "195      0  I think that nearly all anime fans will recomm...   \n",
       "196      0                                     Holy fuck what   \n",
       "197      0   Gotta love that conservative media brainwashing.   \n",
       "198      0  hmmm try uninstalling the current driver resta...   \n",
       "199      0  If a country is not recognized, by the UN, why...   \n",
       "\n",
       "                                        parent_comment  \n",
       "0    If you don't spend 1100 dollars minimum on you...  \n",
       "1    As I said It's just one bad apple, man. It's j...  \n",
       "2    So that's the last player gone from Brian Lara...  \n",
       "3    Dennis Rodman attempted to have the number 69 ...  \n",
       "4    EA: \"Alright guys, people are tired of the sam...  \n",
       "..                                                 ...  \n",
       "195  I haven't watched anime since Desert Punk... I...  \n",
       "196  Move to Canada. We tax EVERYTHING. 12% (except...  \n",
       "197  You'd eat shit from their pockets if they told...  \n",
       "198  OK so right after step 12, I got a error messa...  \n",
       "199  More illegal settlements and a complete disreg...  \n",
       "\n",
       "[200 rows x 3 columns]"
      ]
     },
     "execution_count": 103,
     "metadata": {},
     "output_type": "execute_result"
    }
   ],
   "source": [
    "reddit_data"
   ]
  },
  {
   "cell_type": "code",
   "execution_count": 104,
   "id": "4345f681",
   "metadata": {},
   "outputs": [
    {
     "name": "stderr",
     "output_type": "stream",
     "text": [
      "/var/folders/0w/78_w9pm16ts4trsks5rjpd440000gn/T/ipykernel_21339/3057874254.py:1: SettingWithCopyWarning: \n",
      "A value is trying to be set on a copy of a slice from a DataFrame.\n",
      "Try using .loc[row_indexer,col_indexer] = value instead\n",
      "\n",
      "See the caveats in the documentation: https://pandas.pydata.org/pandas-docs/stable/user_guide/indexing.html#returning-a-view-versus-a-copy\n",
      "  reddit_data['combined_text'] = reddit_data['comment'] + ' ' + reddit_data['parent_comment']\n"
     ]
    }
   ],
   "source": [
    "reddit_data['combined_text'] = reddit_data['comment'] + ' ' + reddit_data['parent_comment']"
   ]
  },
  {
   "cell_type": "code",
   "execution_count": 105,
   "id": "167c1009",
   "metadata": {},
   "outputs": [
    {
     "data": {
      "text/html": [
       "<div>\n",
       "<style scoped>\n",
       "    .dataframe tbody tr th:only-of-type {\n",
       "        vertical-align: middle;\n",
       "    }\n",
       "\n",
       "    .dataframe tbody tr th {\n",
       "        vertical-align: top;\n",
       "    }\n",
       "\n",
       "    .dataframe thead th {\n",
       "        text-align: right;\n",
       "    }\n",
       "</style>\n",
       "<table border=\"1\" class=\"dataframe\">\n",
       "  <thead>\n",
       "    <tr style=\"text-align: right;\">\n",
       "      <th></th>\n",
       "      <th>label</th>\n",
       "      <th>comment</th>\n",
       "      <th>parent_comment</th>\n",
       "      <th>combined_text</th>\n",
       "    </tr>\n",
       "  </thead>\n",
       "  <tbody>\n",
       "    <tr>\n",
       "      <th>0</th>\n",
       "      <td>1</td>\n",
       "      <td>If you were made of steel, you could get the l...</td>\n",
       "      <td>If you don't spend 1100 dollars minimum on you...</td>\n",
       "      <td>If you were made of steel, you could get the l...</td>\n",
       "    </tr>\n",
       "    <tr>\n",
       "      <th>1</th>\n",
       "      <td>1</td>\n",
       "      <td>Here, have an</td>\n",
       "      <td>As I said It's just one bad apple, man. It's j...</td>\n",
       "      <td>Here, have an As I said It's just one bad appl...</td>\n",
       "    </tr>\n",
       "    <tr>\n",
       "      <th>2</th>\n",
       "      <td>1</td>\n",
       "      <td>I think you're referring to S. Chinderpool, wh...</td>\n",
       "      <td>So that's the last player gone from Brian Lara...</td>\n",
       "      <td>I think you're referring to S. Chinderpool, wh...</td>\n",
       "    </tr>\n",
       "    <tr>\n",
       "      <th>3</th>\n",
       "      <td>1</td>\n",
       "      <td>Fucking rigged bullshit</td>\n",
       "      <td>Dennis Rodman attempted to have the number 69 ...</td>\n",
       "      <td>Fucking rigged bullshit Dennis Rodman attempte...</td>\n",
       "    </tr>\n",
       "    <tr>\n",
       "      <th>4</th>\n",
       "      <td>1</td>\n",
       "      <td>That's enough to convince me!</td>\n",
       "      <td>EA: \"Alright guys, people are tired of the sam...</td>\n",
       "      <td>That's enough to convince me! EA: \"Alright guy...</td>\n",
       "    </tr>\n",
       "  </tbody>\n",
       "</table>\n",
       "</div>"
      ],
      "text/plain": [
       "   label                                            comment  \\\n",
       "0      1  If you were made of steel, you could get the l...   \n",
       "1      1                                      Here, have an   \n",
       "2      1  I think you're referring to S. Chinderpool, wh...   \n",
       "3      1                            Fucking rigged bullshit   \n",
       "4      1                      That's enough to convince me!   \n",
       "\n",
       "                                      parent_comment  \\\n",
       "0  If you don't spend 1100 dollars minimum on you...   \n",
       "1  As I said It's just one bad apple, man. It's j...   \n",
       "2  So that's the last player gone from Brian Lara...   \n",
       "3  Dennis Rodman attempted to have the number 69 ...   \n",
       "4  EA: \"Alright guys, people are tired of the sam...   \n",
       "\n",
       "                                       combined_text  \n",
       "0  If you were made of steel, you could get the l...  \n",
       "1  Here, have an As I said It's just one bad appl...  \n",
       "2  I think you're referring to S. Chinderpool, wh...  \n",
       "3  Fucking rigged bullshit Dennis Rodman attempte...  \n",
       "4  That's enough to convince me! EA: \"Alright guy...  "
      ]
     },
     "execution_count": 105,
     "metadata": {},
     "output_type": "execute_result"
    }
   ],
   "source": [
    "reddit_data.head()"
   ]
  },
  {
   "cell_type": "code",
   "execution_count": 114,
   "id": "276cd3b3",
   "metadata": {},
   "outputs": [
    {
     "data": {
      "text/plain": [
       "label             0\n",
       "comment           0\n",
       "parent_comment    0\n",
       "combined_text     0\n",
       "dtype: int64"
      ]
     },
     "execution_count": 114,
     "metadata": {},
     "output_type": "execute_result"
    }
   ],
   "source": [
    "nan_in_columns = reddit_data.isna().sum()\n",
    "nan_in_columns"
   ]
  },
  {
   "cell_type": "code",
   "execution_count": null,
   "id": "559c4378",
   "metadata": {},
   "outputs": [],
   "source": []
  },
  {
   "cell_type": "code",
   "execution_count": 96,
   "id": "b62c7e60",
   "metadata": {},
   "outputs": [],
   "source": [
    "encoded_data = tokenizer(reddit_data['combined_text'].tolist(), padding=True, truncation=True, return_tensors='pt')"
   ]
  },
  {
   "cell_type": "code",
   "execution_count": 106,
   "id": "43a8b3d0",
   "metadata": {},
   "outputs": [],
   "source": [
    "# Assuming df is your complete DataFrame\n",
    "labels_complete = torch.tensor(reddit_data['label'].tolist())\n"
   ]
  },
  {
   "cell_type": "code",
   "execution_count": 108,
   "id": "91dc4976",
   "metadata": {},
   "outputs": [
    {
     "ename": "AssertionError",
     "evalue": "Size mismatch between tensors",
     "output_type": "error",
     "traceback": [
      "\u001b[0;31m---------------------------------------------------------------------------\u001b[0m",
      "\u001b[0;31mAssertionError\u001b[0m                            Traceback (most recent call last)",
      "\u001b[0;32m/var/folders/0w/78_w9pm16ts4trsks5rjpd440000gn/T/ipykernel_21339/889846500.py\u001b[0m in \u001b[0;36m<module>\u001b[0;34m\u001b[0m\n\u001b[1;32m      1\u001b[0m \u001b[0;31m# Assuming df is your complete DataFrame\u001b[0m\u001b[0;34m\u001b[0m\u001b[0;34m\u001b[0m\u001b[0m\n\u001b[0;32m----> 2\u001b[0;31m \u001b[0mcomplete_dataset\u001b[0m \u001b[0;34m=\u001b[0m \u001b[0mTensorDataset\u001b[0m\u001b[0;34m(\u001b[0m\u001b[0mencoded_data_complete\u001b[0m\u001b[0;34m[\u001b[0m\u001b[0;34m'input_ids'\u001b[0m\u001b[0;34m]\u001b[0m\u001b[0;34m,\u001b[0m \u001b[0mlabels_complete\u001b[0m\u001b[0;34m)\u001b[0m\u001b[0;34m\u001b[0m\u001b[0;34m\u001b[0m\u001b[0m\n\u001b[0m\u001b[1;32m      3\u001b[0m \u001b[0;34m\u001b[0m\u001b[0m\n",
      "\u001b[0;32m~/opt/anaconda3/lib/python3.9/site-packages/torch/utils/data/dataset.py\u001b[0m in \u001b[0;36m__init__\u001b[0;34m(self, *tensors)\u001b[0m\n\u001b[1;32m    190\u001b[0m \u001b[0;34m\u001b[0m\u001b[0m\n\u001b[1;32m    191\u001b[0m     \u001b[0;32mdef\u001b[0m \u001b[0m__init__\u001b[0m\u001b[0;34m(\u001b[0m\u001b[0mself\u001b[0m\u001b[0;34m,\u001b[0m \u001b[0;34m*\u001b[0m\u001b[0mtensors\u001b[0m\u001b[0;34m:\u001b[0m \u001b[0mTensor\u001b[0m\u001b[0;34m)\u001b[0m \u001b[0;34m->\u001b[0m \u001b[0;32mNone\u001b[0m\u001b[0;34m:\u001b[0m\u001b[0;34m\u001b[0m\u001b[0;34m\u001b[0m\u001b[0m\n\u001b[0;32m--> 192\u001b[0;31m         \u001b[0;32massert\u001b[0m \u001b[0mall\u001b[0m\u001b[0;34m(\u001b[0m\u001b[0mtensors\u001b[0m\u001b[0;34m[\u001b[0m\u001b[0;36m0\u001b[0m\u001b[0;34m]\u001b[0m\u001b[0;34m.\u001b[0m\u001b[0msize\u001b[0m\u001b[0;34m(\u001b[0m\u001b[0;36m0\u001b[0m\u001b[0;34m)\u001b[0m \u001b[0;34m==\u001b[0m \u001b[0mtensor\u001b[0m\u001b[0;34m.\u001b[0m\u001b[0msize\u001b[0m\u001b[0;34m(\u001b[0m\u001b[0;36m0\u001b[0m\u001b[0;34m)\u001b[0m \u001b[0;32mfor\u001b[0m \u001b[0mtensor\u001b[0m \u001b[0;32min\u001b[0m \u001b[0mtensors\u001b[0m\u001b[0;34m)\u001b[0m\u001b[0;34m,\u001b[0m \u001b[0;34m\"Size mismatch between tensors\"\u001b[0m\u001b[0;34m\u001b[0m\u001b[0;34m\u001b[0m\u001b[0m\n\u001b[0m\u001b[1;32m    193\u001b[0m         \u001b[0mself\u001b[0m\u001b[0;34m.\u001b[0m\u001b[0mtensors\u001b[0m \u001b[0;34m=\u001b[0m \u001b[0mtensors\u001b[0m\u001b[0;34m\u001b[0m\u001b[0;34m\u001b[0m\u001b[0m\n\u001b[1;32m    194\u001b[0m \u001b[0;34m\u001b[0m\u001b[0m\n",
      "\u001b[0;31mAssertionError\u001b[0m: Size mismatch between tensors"
     ]
    }
   ],
   "source": [
    "# Assuming df is your complete DataFrame\n",
    "# complete_dataset = TensorDataset(encoded_data_complete['input_ids'], labels_complete)\n",
    "# complete_loader = DataLoader(complete_dataset, batch_size=16, shuffle=False)  \n"
   ]
  },
  {
   "cell_type": "code",
   "execution_count": 109,
   "id": "93c43d1e",
   "metadata": {},
   "outputs": [],
   "source": [
    "\n",
    "\n",
    "# Align the number of samples\n",
    "num_samples = min(len(encoded_data_complete['input_ids']), len(labels_complete))\n",
    "encoded_data_aligned = {key: value[:num_samples] for key, value in encoded_data_complete.items()}\n",
    "labels_aligned = labels_complete[:num_samples]\n",
    "\n",
    "# Create TensorDataset\n",
    "complete_dataset = TensorDataset(encoded_data_aligned['input_ids'], labels_aligned)\n"
   ]
  },
  {
   "cell_type": "code",
   "execution_count": 119,
   "id": "6530328f",
   "metadata": {},
   "outputs": [
    {
     "data": {
      "text/plain": [
       "200"
      ]
     },
     "execution_count": 119,
     "metadata": {},
     "output_type": "execute_result"
    }
   ],
   "source": [
    "len(complete_dataset)"
   ]
  },
  {
   "cell_type": "code",
   "execution_count": 120,
   "id": "5b2702bd",
   "metadata": {},
   "outputs": [
    {
     "data": {
      "text/plain": [
       "200"
      ]
     },
     "execution_count": 120,
     "metadata": {},
     "output_type": "execute_result"
    }
   ],
   "source": [
    "len(labels_aligned)"
   ]
  },
  {
   "cell_type": "code",
   "execution_count": 110,
   "id": "e47c116a",
   "metadata": {},
   "outputs": [],
   "source": [
    "complete_loader = DataLoader(complete_dataset, batch_size=16, shuffle=False) "
   ]
  },
  {
   "cell_type": "code",
   "execution_count": 122,
   "id": "2f13c165",
   "metadata": {},
   "outputs": [
    {
     "data": {
      "application/vnd.jupyter.widget-view+json": {
       "model_id": "f95cca0a9f094c7ba453aac8dc808235",
       "version_major": 2,
       "version_minor": 0
      },
      "text/plain": [
       "Testing:   0%|          | 0/13 [00:00<?, ?it/s]"
      ]
     },
     "metadata": {},
     "output_type": "display_data"
    }
   ],
   "source": [
    "model.eval()\n",
    "predicted_labels_reddit = []\n",
    "\n",
    "with torch.no_grad():\n",
    "    for batch in tqdm(complete_loader, desc='Testing'):\n",
    "        input_ids, labels = batch\n",
    "        outputs = model(input_ids)\n",
    "        predicted_labels = torch.argmax(outputs.logits, dim=1)\n",
    "        predicted_labels_reddit.extend(predicted_labels.tolist())\n",
    "\n",
    "predicted_labels_reddit = torch.tensor(predicted_labels_reddit)\n"
   ]
  },
  {
   "cell_type": "code",
   "execution_count": 125,
   "id": "0297c4fa",
   "metadata": {},
   "outputs": [
    {
     "name": "stdout",
     "output_type": "stream",
     "text": [
      "Number of samples in predicted_labels: 200\n"
     ]
    }
   ],
   "source": [
    "print('Number of samples in predicted_labels:', len(predicted_labels_reddit))"
   ]
  },
  {
   "cell_type": "code",
   "execution_count": null,
   "id": "86e2ec36",
   "metadata": {},
   "outputs": [],
   "source": [
    "###selecting reddit_data and training the model"
   ]
  },
  {
   "cell_type": "code",
   "execution_count": 126,
   "id": "bc029958",
   "metadata": {},
   "outputs": [
    {
     "name": "stdout",
     "output_type": "stream",
     "text": [
      "Accuracy: 0.445\n",
      "F1 Score: 0.4064171122994653\n",
      "Precision: 0.4367816091954023\n",
      "Recall: 0.38\n"
     ]
    }
   ],
   "source": [
    "from sklearn.metrics import accuracy_score, f1_score, precision_score, recall_score\n",
    "\n",
    "# Convert the true labels (labels_complete) to a numpy array\n",
    "true_labels = labels_complete.numpy()\n",
    "\n",
    "# Convert the predicted labels (predicted_labels_complete) to a numpy array\n",
    "predicted_labels = predicted_labels_reddit.numpy()\n",
    "\n",
    "# Calculate accuracy\n",
    "accuracy = accuracy_score(true_labels, predicted_labels)\n",
    "\n",
    "# Calculate F1 score\n",
    "f1 = f1_score(true_labels, predicted_labels)\n",
    "\n",
    "# Calculate precision\n",
    "precision = precision_score(true_labels, predicted_labels)\n",
    "\n",
    "# Calculate recall\n",
    "recall = recall_score(true_labels, predicted_labels)\n",
    "\n",
    "# Print the scores\n",
    "print('Accuracy:', accuracy)\n",
    "print('F1 Score:', f1)\n",
    "print('Precision:', precision)\n",
    "print('Recall:', recall)\n"
   ]
  },
  {
   "cell_type": "code",
   "execution_count": null,
   "id": "3947ec43",
   "metadata": {},
   "outputs": [],
   "source": [
    "### So lets train the dataset on a selctd=ed number of reddidt data "
   ]
  },
  {
   "cell_type": "code",
   "execution_count": 32,
   "id": "3bc9f288",
   "metadata": {},
   "outputs": [],
   "source": [
    "# Select 1000 samples for each label\n",
    "desired_samples_per_label = 200\n",
    "\n",
    "# Select 1000 samples labeled as 1\n",
    "samples_label_1 = df_reddit[df_reddit['label'] == 1].sample(n=desired_samples_per_label, random_state=42)\n",
    "\n",
    "# Select 10000 samples labeled as 0\n",
    "samples_label_0 = df_reddit[df_reddit['label'] == 0].sample(n=desired_samples_per_label, random_state=42)\n",
    "\n",
    "# Concatenate the selected samples\n",
    "reddit_data = pd.concat([samples_label_1, samples_label_0], ignore_index=True)"
   ]
  },
  {
   "cell_type": "code",
   "execution_count": 33,
   "id": "2969baed",
   "metadata": {},
   "outputs": [
    {
     "data": {
      "text/html": [
       "<div>\n",
       "<style scoped>\n",
       "    .dataframe tbody tr th:only-of-type {\n",
       "        vertical-align: middle;\n",
       "    }\n",
       "\n",
       "    .dataframe tbody tr th {\n",
       "        vertical-align: top;\n",
       "    }\n",
       "\n",
       "    .dataframe thead th {\n",
       "        text-align: right;\n",
       "    }\n",
       "</style>\n",
       "<table border=\"1\" class=\"dataframe\">\n",
       "  <thead>\n",
       "    <tr style=\"text-align: right;\">\n",
       "      <th></th>\n",
       "      <th>label</th>\n",
       "      <th>comment</th>\n",
       "      <th>author</th>\n",
       "      <th>subreddit</th>\n",
       "      <th>score</th>\n",
       "      <th>ups</th>\n",
       "      <th>downs</th>\n",
       "      <th>date</th>\n",
       "      <th>created_utc</th>\n",
       "      <th>parent_comment</th>\n",
       "    </tr>\n",
       "  </thead>\n",
       "  <tbody>\n",
       "    <tr>\n",
       "      <th>0</th>\n",
       "      <td>1</td>\n",
       "      <td>If you were made of steel, you could get the l...</td>\n",
       "      <td>appletart</td>\n",
       "      <td>bicycletouring</td>\n",
       "      <td>1</td>\n",
       "      <td>1</td>\n",
       "      <td>0</td>\n",
       "      <td>2014-06</td>\n",
       "      <td>2014-06-01 03:00:18</td>\n",
       "      <td>If you don't spend 1100 dollars minimum on you...</td>\n",
       "    </tr>\n",
       "    <tr>\n",
       "      <th>1</th>\n",
       "      <td>1</td>\n",
       "      <td>Here, have an</td>\n",
       "      <td>romulusnr</td>\n",
       "      <td>boston</td>\n",
       "      <td>1</td>\n",
       "      <td>1</td>\n",
       "      <td>0</td>\n",
       "      <td>2015-09</td>\n",
       "      <td>2015-09-10 01:25:40</td>\n",
       "      <td>As I said It's just one bad apple, man. It's j...</td>\n",
       "    </tr>\n",
       "    <tr>\n",
       "      <th>2</th>\n",
       "      <td>1</td>\n",
       "      <td>I think you're referring to S. Chinderpool, wh...</td>\n",
       "      <td>Sphenoidman</td>\n",
       "      <td>Cricket</td>\n",
       "      <td>1</td>\n",
       "      <td>1</td>\n",
       "      <td>0</td>\n",
       "      <td>2016-01</td>\n",
       "      <td>2016-01-23 23:26:00</td>\n",
       "      <td>So that's the last player gone from Brian Lara...</td>\n",
       "    </tr>\n",
       "    <tr>\n",
       "      <th>3</th>\n",
       "      <td>1</td>\n",
       "      <td>Fucking rigged bullshit</td>\n",
       "      <td>cowboysfan88</td>\n",
       "      <td>nba</td>\n",
       "      <td>5</td>\n",
       "      <td>5</td>\n",
       "      <td>0</td>\n",
       "      <td>2016-07</td>\n",
       "      <td>2016-07-15 05:59:09</td>\n",
       "      <td>Dennis Rodman attempted to have the number 69 ...</td>\n",
       "    </tr>\n",
       "    <tr>\n",
       "      <th>4</th>\n",
       "      <td>1</td>\n",
       "      <td>That's enough to convince me!</td>\n",
       "      <td>JaquiskiTaterTartt</td>\n",
       "      <td>49ers</td>\n",
       "      <td>1</td>\n",
       "      <td>1</td>\n",
       "      <td>0</td>\n",
       "      <td>2015-08</td>\n",
       "      <td>2015-08-21 23:49:20</td>\n",
       "      <td>EA: \"Alright guys, people are tired of the sam...</td>\n",
       "    </tr>\n",
       "    <tr>\n",
       "      <th>...</th>\n",
       "      <td>...</td>\n",
       "      <td>...</td>\n",
       "      <td>...</td>\n",
       "      <td>...</td>\n",
       "      <td>...</td>\n",
       "      <td>...</td>\n",
       "      <td>...</td>\n",
       "      <td>...</td>\n",
       "      <td>...</td>\n",
       "      <td>...</td>\n",
       "    </tr>\n",
       "    <tr>\n",
       "      <th>395</th>\n",
       "      <td>0</td>\n",
       "      <td>If the US was truly responsible for this \"coup...</td>\n",
       "      <td>vicefox</td>\n",
       "      <td>conspiracy</td>\n",
       "      <td>1</td>\n",
       "      <td>1</td>\n",
       "      <td>0</td>\n",
       "      <td>2016-07</td>\n",
       "      <td>2016-07-18 14:28:34</td>\n",
       "      <td>Did Turkey Just Threaten War Against the Unite...</td>\n",
       "    </tr>\n",
       "    <tr>\n",
       "      <th>396</th>\n",
       "      <td>0</td>\n",
       "      <td>Backdoor sluts 9 It makes Crotch Capers 3 look...</td>\n",
       "      <td>Something_Syck</td>\n",
       "      <td>AskReddit</td>\n",
       "      <td>1</td>\n",
       "      <td>1</td>\n",
       "      <td>0</td>\n",
       "      <td>2015-01</td>\n",
       "      <td>2015-01-28 18:41:51</td>\n",
       "      <td>What is the one movie you never want to watch ...</td>\n",
       "    </tr>\n",
       "    <tr>\n",
       "      <th>397</th>\n",
       "      <td>0</td>\n",
       "      <td>I just realised, if the police ever check any ...</td>\n",
       "      <td>vis_break</td>\n",
       "      <td>CadenMoranDairy</td>\n",
       "      <td>2</td>\n",
       "      <td>2</td>\n",
       "      <td>0</td>\n",
       "      <td>2016-06</td>\n",
       "      <td>2016-06-14 20:46:18</td>\n",
       "      <td>lsn is full of shit, his other account that he...</td>\n",
       "    </tr>\n",
       "    <tr>\n",
       "      <th>398</th>\n",
       "      <td>0</td>\n",
       "      <td>Ooh wow shit tons of racists celebrating death.</td>\n",
       "      <td>fiyapoi</td>\n",
       "      <td>toosoon</td>\n",
       "      <td>-61</td>\n",
       "      <td>-61</td>\n",
       "      <td>0</td>\n",
       "      <td>2016-08</td>\n",
       "      <td>2016-08-17 03:48:40</td>\n",
       "      <td>Unfortunately there won't be a rematch.</td>\n",
       "    </tr>\n",
       "    <tr>\n",
       "      <th>399</th>\n",
       "      <td>0</td>\n",
       "      <td>You figure there would be a 5th jet for symmet...</td>\n",
       "      <td>bonerland11</td>\n",
       "      <td>MURICA</td>\n",
       "      <td>3</td>\n",
       "      <td>3</td>\n",
       "      <td>0</td>\n",
       "      <td>2013-02</td>\n",
       "      <td>2013-02-25 22:22:26</td>\n",
       "      <td>Whether you like the Pats or not... MURICA</td>\n",
       "    </tr>\n",
       "  </tbody>\n",
       "</table>\n",
       "<p>400 rows × 10 columns</p>\n",
       "</div>"
      ],
      "text/plain": [
       "     label                                            comment  \\\n",
       "0        1  If you were made of steel, you could get the l...   \n",
       "1        1                                      Here, have an   \n",
       "2        1  I think you're referring to S. Chinderpool, wh...   \n",
       "3        1                            Fucking rigged bullshit   \n",
       "4        1                      That's enough to convince me!   \n",
       "..     ...                                                ...   \n",
       "395      0  If the US was truly responsible for this \"coup...   \n",
       "396      0  Backdoor sluts 9 It makes Crotch Capers 3 look...   \n",
       "397      0  I just realised, if the police ever check any ...   \n",
       "398      0    Ooh wow shit tons of racists celebrating death.   \n",
       "399      0  You figure there would be a 5th jet for symmet...   \n",
       "\n",
       "                 author        subreddit  score  ups  downs     date  \\\n",
       "0             appletart   bicycletouring      1    1      0  2014-06   \n",
       "1             romulusnr           boston      1    1      0  2015-09   \n",
       "2           Sphenoidman          Cricket      1    1      0  2016-01   \n",
       "3          cowboysfan88              nba      5    5      0  2016-07   \n",
       "4    JaquiskiTaterTartt            49ers      1    1      0  2015-08   \n",
       "..                  ...              ...    ...  ...    ...      ...   \n",
       "395             vicefox       conspiracy      1    1      0  2016-07   \n",
       "396      Something_Syck        AskReddit      1    1      0  2015-01   \n",
       "397           vis_break  CadenMoranDairy      2    2      0  2016-06   \n",
       "398             fiyapoi          toosoon    -61  -61      0  2016-08   \n",
       "399         bonerland11           MURICA      3    3      0  2013-02   \n",
       "\n",
       "             created_utc                                     parent_comment  \n",
       "0    2014-06-01 03:00:18  If you don't spend 1100 dollars minimum on you...  \n",
       "1    2015-09-10 01:25:40  As I said It's just one bad apple, man. It's j...  \n",
       "2    2016-01-23 23:26:00  So that's the last player gone from Brian Lara...  \n",
       "3    2016-07-15 05:59:09  Dennis Rodman attempted to have the number 69 ...  \n",
       "4    2015-08-21 23:49:20  EA: \"Alright guys, people are tired of the sam...  \n",
       "..                   ...                                                ...  \n",
       "395  2016-07-18 14:28:34  Did Turkey Just Threaten War Against the Unite...  \n",
       "396  2015-01-28 18:41:51  What is the one movie you never want to watch ...  \n",
       "397  2016-06-14 20:46:18  lsn is full of shit, his other account that he...  \n",
       "398  2016-08-17 03:48:40            Unfortunately there won't be a rematch.  \n",
       "399  2013-02-25 22:22:26         Whether you like the Pats or not... MURICA  \n",
       "\n",
       "[400 rows x 10 columns]"
      ]
     },
     "execution_count": 33,
     "metadata": {},
     "output_type": "execute_result"
    }
   ],
   "source": [
    "reddit_data"
   ]
  },
  {
   "cell_type": "code",
   "execution_count": 34,
   "id": "e3c9128e",
   "metadata": {},
   "outputs": [],
   "source": [
    "reddit_data = reddit_data[['label','comment','parent_comment']]"
   ]
  },
  {
   "cell_type": "code",
   "execution_count": 35,
   "id": "3f9d7fa3",
   "metadata": {},
   "outputs": [
    {
     "name": "stderr",
     "output_type": "stream",
     "text": [
      "/var/folders/0w/78_w9pm16ts4trsks5rjpd440000gn/T/ipykernel_88213/3057874254.py:1: SettingWithCopyWarning: \n",
      "A value is trying to be set on a copy of a slice from a DataFrame.\n",
      "Try using .loc[row_indexer,col_indexer] = value instead\n",
      "\n",
      "See the caveats in the documentation: https://pandas.pydata.org/pandas-docs/stable/user_guide/indexing.html#returning-a-view-versus-a-copy\n",
      "  reddit_data['combined_text'] = reddit_data['comment'] + ' ' + reddit_data['parent_comment']\n"
     ]
    }
   ],
   "source": [
    "reddit_data['combined_text'] = reddit_data['comment'] + ' ' + reddit_data['parent_comment']"
   ]
  },
  {
   "cell_type": "code",
   "execution_count": 36,
   "id": "2657caa3",
   "metadata": {},
   "outputs": [
    {
     "data": {
      "text/html": [
       "<div>\n",
       "<style scoped>\n",
       "    .dataframe tbody tr th:only-of-type {\n",
       "        vertical-align: middle;\n",
       "    }\n",
       "\n",
       "    .dataframe tbody tr th {\n",
       "        vertical-align: top;\n",
       "    }\n",
       "\n",
       "    .dataframe thead th {\n",
       "        text-align: right;\n",
       "    }\n",
       "</style>\n",
       "<table border=\"1\" class=\"dataframe\">\n",
       "  <thead>\n",
       "    <tr style=\"text-align: right;\">\n",
       "      <th></th>\n",
       "      <th>label</th>\n",
       "      <th>comment</th>\n",
       "      <th>parent_comment</th>\n",
       "      <th>combined_text</th>\n",
       "    </tr>\n",
       "  </thead>\n",
       "  <tbody>\n",
       "    <tr>\n",
       "      <th>0</th>\n",
       "      <td>1</td>\n",
       "      <td>If you were made of steel, you could get the l...</td>\n",
       "      <td>If you don't spend 1100 dollars minimum on you...</td>\n",
       "      <td>If you were made of steel, you could get the l...</td>\n",
       "    </tr>\n",
       "    <tr>\n",
       "      <th>1</th>\n",
       "      <td>1</td>\n",
       "      <td>Here, have an</td>\n",
       "      <td>As I said It's just one bad apple, man. It's j...</td>\n",
       "      <td>Here, have an As I said It's just one bad appl...</td>\n",
       "    </tr>\n",
       "    <tr>\n",
       "      <th>2</th>\n",
       "      <td>1</td>\n",
       "      <td>I think you're referring to S. Chinderpool, wh...</td>\n",
       "      <td>So that's the last player gone from Brian Lara...</td>\n",
       "      <td>I think you're referring to S. Chinderpool, wh...</td>\n",
       "    </tr>\n",
       "    <tr>\n",
       "      <th>3</th>\n",
       "      <td>1</td>\n",
       "      <td>Fucking rigged bullshit</td>\n",
       "      <td>Dennis Rodman attempted to have the number 69 ...</td>\n",
       "      <td>Fucking rigged bullshit Dennis Rodman attempte...</td>\n",
       "    </tr>\n",
       "    <tr>\n",
       "      <th>4</th>\n",
       "      <td>1</td>\n",
       "      <td>That's enough to convince me!</td>\n",
       "      <td>EA: \"Alright guys, people are tired of the sam...</td>\n",
       "      <td>That's enough to convince me! EA: \"Alright guy...</td>\n",
       "    </tr>\n",
       "  </tbody>\n",
       "</table>\n",
       "</div>"
      ],
      "text/plain": [
       "   label                                            comment  \\\n",
       "0      1  If you were made of steel, you could get the l...   \n",
       "1      1                                      Here, have an   \n",
       "2      1  I think you're referring to S. Chinderpool, wh...   \n",
       "3      1                            Fucking rigged bullshit   \n",
       "4      1                      That's enough to convince me!   \n",
       "\n",
       "                                      parent_comment  \\\n",
       "0  If you don't spend 1100 dollars minimum on you...   \n",
       "1  As I said It's just one bad apple, man. It's j...   \n",
       "2  So that's the last player gone from Brian Lara...   \n",
       "3  Dennis Rodman attempted to have the number 69 ...   \n",
       "4  EA: \"Alright guys, people are tired of the sam...   \n",
       "\n",
       "                                       combined_text  \n",
       "0  If you were made of steel, you could get the l...  \n",
       "1  Here, have an As I said It's just one bad appl...  \n",
       "2  I think you're referring to S. Chinderpool, wh...  \n",
       "3  Fucking rigged bullshit Dennis Rodman attempte...  \n",
       "4  That's enough to convince me! EA: \"Alright guy...  "
      ]
     },
     "execution_count": 36,
     "metadata": {},
     "output_type": "execute_result"
    }
   ],
   "source": [
    "reddit_data.head()"
   ]
  },
  {
   "cell_type": "code",
   "execution_count": 37,
   "id": "eef64bb2",
   "metadata": {},
   "outputs": [],
   "source": [
    "from transformers import BertTokenizer\n",
    "# Tokenize the text data\n",
    "tokenizer = BertTokenizer.from_pretrained('bert-base-uncased')\n",
    "encoded_data = tokenizer(reddit_data['combined_text'].tolist(), padding=True, truncation=True, return_tensors='pt')\n",
    "\n",
    "# Prepare labels\n",
    "labels = torch.tensor(reddit_data['label'].tolist())"
   ]
  },
  {
   "cell_type": "code",
   "execution_count": null,
   "id": "8718e14d",
   "metadata": {},
   "outputs": [],
   "source": []
  },
  {
   "cell_type": "code",
   "execution_count": 27,
   "id": "3bc60230",
   "metadata": {},
   "outputs": [
    {
     "data": {
      "text/plain": [
       "500"
      ]
     },
     "execution_count": 27,
     "metadata": {},
     "output_type": "execute_result"
    }
   ],
   "source": [
    "len(labels)"
   ]
  },
  {
   "cell_type": "code",
   "execution_count": 134,
   "id": "51f737d3",
   "metadata": {},
   "outputs": [
    {
     "data": {
      "text/plain": [
       "3"
      ]
     },
     "execution_count": 134,
     "metadata": {},
     "output_type": "execute_result"
    }
   ],
   "source": [
    "len(encoded_data)"
   ]
  },
  {
   "cell_type": "code",
   "execution_count": 14,
   "id": "4befb6b4",
   "metadata": {},
   "outputs": [
    {
     "data": {
      "text/plain": [
       "{'input_ids': tensor([[ 101, 2065, 2017,  ...,    0,    0,    0],\n",
       "        [ 101, 2182, 1010,  ...,    0,    0,    0],\n",
       "        [ 101, 1045, 2228,  ...,    0,    0,    0],\n",
       "        ...,\n",
       "        [ 101, 2017, 2024,  ...,    0,    0,    0],\n",
       "        [ 101, 2030, 2515,  ...,    0,    0,    0],\n",
       "        [ 101, 1996, 2069,  ...,    0,    0,    0]]), 'token_type_ids': tensor([[0, 0, 0,  ..., 0, 0, 0],\n",
       "        [0, 0, 0,  ..., 0, 0, 0],\n",
       "        [0, 0, 0,  ..., 0, 0, 0],\n",
       "        ...,\n",
       "        [0, 0, 0,  ..., 0, 0, 0],\n",
       "        [0, 0, 0,  ..., 0, 0, 0],\n",
       "        [0, 0, 0,  ..., 0, 0, 0]]), 'attention_mask': tensor([[1, 1, 1,  ..., 0, 0, 0],\n",
       "        [1, 1, 1,  ..., 0, 0, 0],\n",
       "        [1, 1, 1,  ..., 0, 0, 0],\n",
       "        ...,\n",
       "        [1, 1, 1,  ..., 0, 0, 0],\n",
       "        [1, 1, 1,  ..., 0, 0, 0],\n",
       "        [1, 1, 1,  ..., 0, 0, 0]])}"
      ]
     },
     "execution_count": 14,
     "metadata": {},
     "output_type": "execute_result"
    }
   ],
   "source": [
    "encoded_data"
   ]
  },
  {
   "cell_type": "code",
   "execution_count": 25,
   "id": "0e1ae4e1",
   "metadata": {},
   "outputs": [
    {
     "name": "stdout",
     "output_type": "stream",
     "text": [
      "Number of tokens per input: 512\n"
     ]
    }
   ],
   "source": [
    "num_tokens_per_input = encoded_data['input_ids'].size(1)\n",
    "\n",
    "print('Number of tokens per input:', num_tokens_per_input)"
   ]
  },
  {
   "cell_type": "code",
   "execution_count": 38,
   "id": "37c8ba0f",
   "metadata": {},
   "outputs": [],
   "source": [
    "from sklearn.model_selection import train_test_split\n",
    "train_inputs, test_inputs, train_labels, test_labels = train_test_split(encoded_data['input_ids'], labels, test_size=0.2, random_state=42)\n",
    "from sklearn.model_selection import train_test_split\n",
    "train_inputs, test_inputs, train_labels, test_labels = train_test_split(encoded_data['input_ids'], labels, test_size=0.2, random_state=42)\n"
   ]
  },
  {
   "cell_type": "code",
   "execution_count": 40,
   "id": "60ef7825",
   "metadata": {},
   "outputs": [],
   "source": [
    "# Define a DataLoader\n",
    "train_dataset = TensorDataset(train_inputs, train_labels)\n",
    "train_loader = DataLoader(train_dataset, batch_size=32, shuffle=True)"
   ]
  },
  {
   "cell_type": "code",
   "execution_count": 41,
   "id": "39cafbd1",
   "metadata": {},
   "outputs": [
    {
     "name": "stderr",
     "output_type": "stream",
     "text": [
      "Some weights of the model checkpoint at bert-base-uncased were not used when initializing BertForSequenceClassification: ['cls.predictions.bias', 'cls.seq_relationship.weight', 'cls.predictions.transform.dense.weight', 'cls.predictions.transform.LayerNorm.bias', 'cls.predictions.transform.LayerNorm.weight', 'cls.predictions.decoder.weight', 'cls.seq_relationship.bias', 'cls.predictions.transform.dense.bias']\n",
      "- This IS expected if you are initializing BertForSequenceClassification from the checkpoint of a model trained on another task or with another architecture (e.g. initializing a BertForSequenceClassification model from a BertForPreTraining model).\n",
      "- This IS NOT expected if you are initializing BertForSequenceClassification from the checkpoint of a model that you expect to be exactly identical (initializing a BertForSequenceClassification model from a BertForSequenceClassification model).\n",
      "Some weights of BertForSequenceClassification were not initialized from the model checkpoint at bert-base-uncased and are newly initialized: ['classifier.weight', 'classifier.bias']\n",
      "You should probably TRAIN this model on a down-stream task to be able to use it for predictions and inference.\n"
     ]
    }
   ],
   "source": [
    "from transformers import BertForSequenceClassification\n",
    "# Load the pre-trained model\n",
    "model = BertForSequenceClassification.from_pretrained('bert-base-uncased', num_labels=2)"
   ]
  },
  {
   "cell_type": "code",
   "execution_count": 42,
   "id": "f2eaa454",
   "metadata": {},
   "outputs": [],
   "source": [
    "# Define the loss function and optimizer\n",
    "import torch.nn as nn \n",
    "import torch.optim as optim\n",
    "#criterion = nn.CrossEntropyLoss()\n",
    "criterion = nn.BCEWithLogitsLoss()\n",
    "optimizer = optim.AdamW(model.parameters(), lr=1e-5)\n",
    "from tqdm.notebook import tqdm  # Import tqdm for progress bar"
   ]
  },
  {
   "cell_type": "code",
   "execution_count": 44,
   "id": "0bfd4b93",
   "metadata": {},
   "outputs": [
    {
     "name": "stdout",
     "output_type": "stream",
     "text": [
      "Epoch 1/10\n"
     ]
    },
    {
     "data": {
      "application/vnd.jupyter.widget-view+json": {
       "model_id": "ad1e47e7844443fea18f63aed08bb2be",
       "version_major": 2,
       "version_minor": 0
      },
      "text/plain": [
       "Epoch 1:   0%|          | 0/10 [00:00<?, ?it/s]"
      ]
     },
     "metadata": {},
     "output_type": "display_data"
    },
    {
     "name": "stdout",
     "output_type": "stream",
     "text": [
      "Epoch 2/10\n"
     ]
    },
    {
     "data": {
      "application/vnd.jupyter.widget-view+json": {
       "model_id": "229bff25cd064ebfa7c319878704091d",
       "version_major": 2,
       "version_minor": 0
      },
      "text/plain": [
       "Epoch 2:   0%|          | 0/10 [00:00<?, ?it/s]"
      ]
     },
     "metadata": {},
     "output_type": "display_data"
    },
    {
     "name": "stdout",
     "output_type": "stream",
     "text": [
      "Epoch 3/10\n"
     ]
    },
    {
     "data": {
      "application/vnd.jupyter.widget-view+json": {
       "model_id": "e5d400d810b94ac4afdc315fc4785453",
       "version_major": 2,
       "version_minor": 0
      },
      "text/plain": [
       "Epoch 3:   0%|          | 0/10 [00:00<?, ?it/s]"
      ]
     },
     "metadata": {},
     "output_type": "display_data"
    },
    {
     "name": "stdout",
     "output_type": "stream",
     "text": [
      "Epoch 4/10\n"
     ]
    },
    {
     "data": {
      "application/vnd.jupyter.widget-view+json": {
       "model_id": "8591649020664aa4ad350e9d0b7202a9",
       "version_major": 2,
       "version_minor": 0
      },
      "text/plain": [
       "Epoch 4:   0%|          | 0/10 [00:00<?, ?it/s]"
      ]
     },
     "metadata": {},
     "output_type": "display_data"
    },
    {
     "name": "stdout",
     "output_type": "stream",
     "text": [
      "Epoch 5/10\n"
     ]
    },
    {
     "data": {
      "application/vnd.jupyter.widget-view+json": {
       "model_id": "8267ef6910874348b247f0b435d6f55c",
       "version_major": 2,
       "version_minor": 0
      },
      "text/plain": [
       "Epoch 5:   0%|          | 0/10 [00:00<?, ?it/s]"
      ]
     },
     "metadata": {},
     "output_type": "display_data"
    },
    {
     "name": "stdout",
     "output_type": "stream",
     "text": [
      "Epoch 6/10\n"
     ]
    },
    {
     "data": {
      "application/vnd.jupyter.widget-view+json": {
       "model_id": "5c18323205c2424dbb9dd8ea8af3d30c",
       "version_major": 2,
       "version_minor": 0
      },
      "text/plain": [
       "Epoch 6:   0%|          | 0/10 [00:00<?, ?it/s]"
      ]
     },
     "metadata": {},
     "output_type": "display_data"
    },
    {
     "name": "stdout",
     "output_type": "stream",
     "text": [
      "Epoch 7/10\n"
     ]
    },
    {
     "data": {
      "application/vnd.jupyter.widget-view+json": {
       "model_id": "c793f15abba949d291e845edbbd4af1d",
       "version_major": 2,
       "version_minor": 0
      },
      "text/plain": [
       "Epoch 7:   0%|          | 0/10 [00:00<?, ?it/s]"
      ]
     },
     "metadata": {},
     "output_type": "display_data"
    },
    {
     "name": "stdout",
     "output_type": "stream",
     "text": [
      "Epoch 8/10\n"
     ]
    },
    {
     "data": {
      "application/vnd.jupyter.widget-view+json": {
       "model_id": "77273c702f7a4a7a97be1ea64154d3cf",
       "version_major": 2,
       "version_minor": 0
      },
      "text/plain": [
       "Epoch 8:   0%|          | 0/10 [00:00<?, ?it/s]"
      ]
     },
     "metadata": {},
     "output_type": "display_data"
    },
    {
     "name": "stdout",
     "output_type": "stream",
     "text": [
      "Epoch 9/10\n"
     ]
    },
    {
     "data": {
      "application/vnd.jupyter.widget-view+json": {
       "model_id": "53b549744d0d424f8e39074b4442cfcb",
       "version_major": 2,
       "version_minor": 0
      },
      "text/plain": [
       "Epoch 9:   0%|          | 0/10 [00:00<?, ?it/s]"
      ]
     },
     "metadata": {},
     "output_type": "display_data"
    },
    {
     "name": "stdout",
     "output_type": "stream",
     "text": [
      "Epoch 10/10\n"
     ]
    },
    {
     "data": {
      "application/vnd.jupyter.widget-view+json": {
       "model_id": "fa1da9d03328473d923fdb697dac3a96",
       "version_major": 2,
       "version_minor": 0
      },
      "text/plain": [
       "Epoch 10:   0%|          | 0/10 [00:00<?, ?it/s]"
      ]
     },
     "metadata": {},
     "output_type": "display_data"
    }
   ],
   "source": [
    "# Training loop\n",
    "model.train()\n",
    "total_epochs = 10  # Adjust the number of epochs as needed\n",
    "\n",
    "for epoch in range(total_epochs):\n",
    "    print(f\"Epoch {epoch + 1}/{total_epochs}\")\n",
    "    \n",
    "    # Use tqdm for a progress bar over the batches\n",
    "    for batch in tqdm(train_loader, desc=f\"Epoch {epoch + 1}\"):\n",
    "        input_ids, labels = batch\n",
    "        outputs = model(input_ids, labels=labels)\n",
    "        loss = outputs.loss\n",
    "        optimizer.zero_grad()\n",
    "        loss.backward()\n",
    "        optimizer.step()"
   ]
  },
  {
   "cell_type": "code",
   "execution_count": 45,
   "id": "9131e9ea",
   "metadata": {},
   "outputs": [
    {
     "name": "stdout",
     "output_type": "stream",
     "text": [
      "Accuracy: 0.4875\n"
     ]
    }
   ],
   "source": [
    "model.eval()\n",
    "with torch.no_grad():\n",
    "    outputs = model(test_inputs, labels=test_labels)\n",
    "    predicted_labels = torch.argmax(outputs.logits, dim=1)\n",
    "\n",
    "accuracy = (predicted_labels == test_labels).sum().item() / len(test_labels)\n",
    "print('Accuracy:', accuracy)\n"
   ]
  },
  {
   "cell_type": "code",
   "execution_count": null,
   "id": "faa1daeb",
   "metadata": {},
   "outputs": [],
   "source": [
    "from sklearn.model_selection import train_test_split\n",
    "train_inputs, test_inputs, train_labels, test_labels = train_test_split(encoded_data['input_ids'], labels, test_size=0.2, random_state=42)\n",
    "from sklearn.model_selection import train_test_split\n",
    "train_inputs, test_inputs, train_labels, test_labels = train_test_split(encoded_data['input_ids'], labels, test_size=0.2, random_state=42)\n",
    "# Define a DataLoader\n",
    "train_dataset = TensorDataset(train_inputs, train_labels)\n",
    "train_loader = DataLoader(train_dataset, batch_size=16, shuffle=True)\n",
    "from transformers import BertForSequenceClassification\n",
    "# Load the pre-trained model\n",
    "model = BertForSequenceClassification.from_pretrained('bert-base-uncased', num_labels=2)\n",
    "# Define the loss function and optimizer\n",
    "import torch.nn as nn \n",
    "import torch.optim as optim\n",
    "#criterion = nn.CrossEntropyLoss()\n",
    "criterion = BCEWithLogitsLoss\n",
    "optimizer = optim.AdamW(model.parameters(), lr=1e-5)\n",
    "from tqdm.notebook import tqdm  # Import tqdm for progress bar\n",
    "\n",
    "# Training loop\n",
    "model.train()\n",
    "total_epochs = 50  # Adjust the number of epochs as needed\n",
    "\n",
    "for epoch in range(total_epochs):\n",
    "    print(f\"Epoch {epoch + 1}/{total_epochs}\")\n",
    "    \n",
    "    # Use tqdm for a progress bar over the batches\n",
    "    for batch in tqdm(train_loader, desc=f\"Epoch {epoch + 1}\"):\n",
    "        input_ids, labels = batch\n",
    "        outputs = model(input_ids, labels=labels)\n",
    "        loss = outputs.loss\n",
    "        optimizer.zero_grad()\n",
    "        loss.backward()\n",
    "        optimizer.step()\n"
   ]
  }
 ],
 "metadata": {
  "kernelspec": {
   "display_name": "Python 3 (ipykernel)",
   "language": "python",
   "name": "python3"
  },
  "language_info": {
   "codemirror_mode": {
    "name": "ipython",
    "version": 3
   },
   "file_extension": ".py",
   "mimetype": "text/x-python",
   "name": "python",
   "nbconvert_exporter": "python",
   "pygments_lexer": "ipython3",
   "version": "3.9.13"
  }
 },
 "nbformat": 4,
 "nbformat_minor": 5
}
