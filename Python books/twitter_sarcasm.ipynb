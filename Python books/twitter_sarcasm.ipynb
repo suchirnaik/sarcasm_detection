{
 "cells": [
  {
   "cell_type": "code",
   "execution_count": 2,
   "id": "33c2eb2f",
   "metadata": {},
   "outputs": [],
   "source": [
    "import pandas as pd\n",
    "\n",
    "# Specify the file path\n",
    "file_path = '/Users/suchirnaik/Downloads/Train_v1.txt'\n",
    "\n",
    "\n",
    "df = pd.read_csv(file_path, delimiter='\\t', names=['TrainSen', 'Text'])\n",
    "\n",
    "\n"
   ]
  },
  {
   "cell_type": "code",
   "execution_count": 3,
   "id": "34b32058",
   "metadata": {},
   "outputs": [
    {
     "data": {
      "text/plain": [
       "0    21292\n",
       "1    18488\n",
       "Name: TrainSen, dtype: int64"
      ]
     },
     "execution_count": 3,
     "metadata": {},
     "output_type": "execute_result"
    }
   ],
   "source": [
    "df['TrainSen'].value_counts()"
   ]
  },
  {
   "cell_type": "code",
   "execution_count": 3,
   "id": "73d6048d",
   "metadata": {},
   "outputs": [],
   "source": [
    "df.to_csv('/Users/suchirnaik/Downloads/Train_v2.csv')"
   ]
  },
  {
   "cell_type": "code",
   "execution_count": 4,
   "id": "55435103",
   "metadata": {},
   "outputs": [],
   "source": [
    "df['Comment'] = df['Text'].str.replace(r'#sarcasm', '')\n"
   ]
  },
  {
   "cell_type": "code",
   "execution_count": 5,
   "id": "82287875",
   "metadata": {},
   "outputs": [
    {
     "data": {
      "text/html": [
       "<div>\n",
       "<style scoped>\n",
       "    .dataframe tbody tr th:only-of-type {\n",
       "        vertical-align: middle;\n",
       "    }\n",
       "\n",
       "    .dataframe tbody tr th {\n",
       "        vertical-align: top;\n",
       "    }\n",
       "\n",
       "    .dataframe thead th {\n",
       "        text-align: right;\n",
       "    }\n",
       "</style>\n",
       "<table border=\"1\" class=\"dataframe\">\n",
       "  <thead>\n",
       "    <tr style=\"text-align: right;\">\n",
       "      <th></th>\n",
       "      <th>TrainSen</th>\n",
       "      <th>Text</th>\n",
       "      <th>Comment</th>\n",
       "    </tr>\n",
       "  </thead>\n",
       "  <tbody>\n",
       "    <tr>\n",
       "      <th>TrainSen</th>\n",
       "      <td>0</td>\n",
       "      <td>@0430yes i hope youre lurking rn. i want to li...</td>\n",
       "      <td>@0430yes i hope youre lurking rn. i want to li...</td>\n",
       "    </tr>\n",
       "    <tr>\n",
       "      <th>TrainSen</th>\n",
       "      <td>0</td>\n",
       "      <td>05 really taught me a valuable lesson I'm neve...</td>\n",
       "      <td>05 really taught me a valuable lesson I'm neve...</td>\n",
       "    </tr>\n",
       "    <tr>\n",
       "      <th>TrainSen</th>\n",
       "      <td>0</td>\n",
       "      <td>@098BERRY Never had a voice to protest, so you...</td>\n",
       "      <td>@098BERRY Never had a voice to protest, so you...</td>\n",
       "    </tr>\n",
       "    <tr>\n",
       "      <th>TrainSen</th>\n",
       "      <td>0</td>\n",
       "      <td>@0hMySt4rs Rest in peace &amp; love to you and you...</td>\n",
       "      <td>@0hMySt4rs Rest in peace &amp; love to you and you...</td>\n",
       "    </tr>\n",
       "    <tr>\n",
       "      <th>TrainSen</th>\n",
       "      <td>0</td>\n",
       "      <td>100 days until Christmas! 🌲 #too soon #not rea...</td>\n",
       "      <td>100 days until Christmas! 🌲 #too soon #not rea...</td>\n",
       "    </tr>\n",
       "    <tr>\n",
       "      <th>...</th>\n",
       "      <td>...</td>\n",
       "      <td>...</td>\n",
       "      <td>...</td>\n",
       "    </tr>\n",
       "    <tr>\n",
       "      <th>TrainSen</th>\n",
       "      <td>1</td>\n",
       "      <td>@Zendaya I could see the makeup artists giving...</td>\n",
       "      <td>@Zendaya I could see the makeup artists giving...</td>\n",
       "    </tr>\n",
       "    <tr>\n",
       "      <th>TrainSen</th>\n",
       "      <td>1</td>\n",
       "      <td>@ZiggiWatkins11 Slvr... That's great name #NOT...</td>\n",
       "      <td>@ZiggiWatkins11 Slvr... That's great name #NOT...</td>\n",
       "    </tr>\n",
       "    <tr>\n",
       "      <th>TrainSen</th>\n",
       "      <td>1</td>\n",
       "      <td>@zoso4986 @Nero He is the fag we need but not ...</td>\n",
       "      <td>@zoso4986 @Nero He is the fag we need but not ...</td>\n",
       "    </tr>\n",
       "    <tr>\n",
       "      <th>TrainSen</th>\n",
       "      <td>1</td>\n",
       "      <td>Zuma sounding like Kanye West right now trying...</td>\n",
       "      <td>Zuma sounding like Kanye West right now trying...</td>\n",
       "    </tr>\n",
       "    <tr>\n",
       "      <th>TrainSen</th>\n",
       "      <td>1</td>\n",
       "      <td>@ZZUCRU @UWDawgPack So true. Students - stick ...</td>\n",
       "      <td>@ZZUCRU @UWDawgPack So true. Students - stick ...</td>\n",
       "    </tr>\n",
       "  </tbody>\n",
       "</table>\n",
       "<p>39780 rows × 3 columns</p>\n",
       "</div>"
      ],
      "text/plain": [
       "          TrainSen                                               Text  \\\n",
       "TrainSen         0  @0430yes i hope youre lurking rn. i want to li...   \n",
       "TrainSen         0  05 really taught me a valuable lesson I'm neve...   \n",
       "TrainSen         0  @098BERRY Never had a voice to protest, so you...   \n",
       "TrainSen         0  @0hMySt4rs Rest in peace & love to you and you...   \n",
       "TrainSen         0  100 days until Christmas! 🌲 #too soon #not rea...   \n",
       "...            ...                                                ...   \n",
       "TrainSen         1  @Zendaya I could see the makeup artists giving...   \n",
       "TrainSen         1  @ZiggiWatkins11 Slvr... That's great name #NOT...   \n",
       "TrainSen         1  @zoso4986 @Nero He is the fag we need but not ...   \n",
       "TrainSen         1  Zuma sounding like Kanye West right now trying...   \n",
       "TrainSen         1  @ZZUCRU @UWDawgPack So true. Students - stick ...   \n",
       "\n",
       "                                                    Comment  \n",
       "TrainSen  @0430yes i hope youre lurking rn. i want to li...  \n",
       "TrainSen  05 really taught me a valuable lesson I'm neve...  \n",
       "TrainSen  @098BERRY Never had a voice to protest, so you...  \n",
       "TrainSen  @0hMySt4rs Rest in peace & love to you and you...  \n",
       "TrainSen  100 days until Christmas! 🌲 #too soon #not rea...  \n",
       "...                                                     ...  \n",
       "TrainSen  @Zendaya I could see the makeup artists giving...  \n",
       "TrainSen  @ZiggiWatkins11 Slvr... That's great name #NOT...  \n",
       "TrainSen  @zoso4986 @Nero He is the fag we need but not ...  \n",
       "TrainSen  Zuma sounding like Kanye West right now trying...  \n",
       "TrainSen  @ZZUCRU @UWDawgPack So true. Students - stick ...  \n",
       "\n",
       "[39780 rows x 3 columns]"
      ]
     },
     "execution_count": 5,
     "metadata": {},
     "output_type": "execute_result"
    }
   ],
   "source": [
    "df"
   ]
  },
  {
   "cell_type": "code",
   "execution_count": 6,
   "id": "1724d317",
   "metadata": {},
   "outputs": [
    {
     "name": "stdout",
     "output_type": "stream",
     "text": [
      "Accuracy: 0.8171191553544495\n",
      "Confusion Matrix:\n",
      "[[3575  696]\n",
      " [ 759 2926]]\n"
     ]
    }
   ],
   "source": [
    "import pandas as pd\n",
    "from sklearn.model_selection import train_test_split\n",
    "from sklearn.feature_extraction.text import TfidfVectorizer\n",
    "from sklearn.svm import SVC\n",
    "from sklearn.metrics import accuracy_score, confusion_matrix\n",
    "\n",
    "# Load the dataset\n",
    "\n",
    "\n",
    "# Create TF-IDF vectors\n",
    "tfidf_vectorizer = TfidfVectorizer(max_features=5000)  # You can adjust max_features as needed\n",
    "X = tfidf_vectorizer.fit_transform(df['Comment'])\n",
    "y = df['TrainSen']\n",
    "\n",
    "# Split the data into training and testing sets\n",
    "X_train, X_test, y_train, y_test = train_test_split(X, y, test_size=0.2, random_state=42)\n",
    "\n",
    "# Train the SVM classifier\n",
    "svm_classifier = SVC()\n",
    "svm_classifier.fit(X_train, y_train)\n",
    "\n",
    "# Make predictions on the test set\n",
    "y_pred = svm_classifier.predict(X_test)\n",
    "\n",
    "# Calculate accuracy\n",
    "accuracy = accuracy_score(y_test, y_pred)\n",
    "\n",
    "# Generate a confusion matrix\n",
    "confusion = confusion_matrix(y_test, y_pred)\n",
    "\n",
    "print(f\"Accuracy: {accuracy}\")\n",
    "print(\"Confusion Matrix:\")\n",
    "print(confusion)\n"
   ]
  },
  {
   "cell_type": "code",
   "execution_count": 7,
   "id": "a398e50e",
   "metadata": {},
   "outputs": [
    {
     "data": {
      "text/html": [
       "<div>\n",
       "<style scoped>\n",
       "    .dataframe tbody tr th:only-of-type {\n",
       "        vertical-align: middle;\n",
       "    }\n",
       "\n",
       "    .dataframe tbody tr th {\n",
       "        vertical-align: top;\n",
       "    }\n",
       "\n",
       "    .dataframe thead th {\n",
       "        text-align: right;\n",
       "    }\n",
       "</style>\n",
       "<table border=\"1\" class=\"dataframe\">\n",
       "  <thead>\n",
       "    <tr style=\"text-align: right;\">\n",
       "      <th></th>\n",
       "      <th>TrainSen</th>\n",
       "      <th>Text</th>\n",
       "      <th>Comment</th>\n",
       "    </tr>\n",
       "  </thead>\n",
       "  <tbody>\n",
       "    <tr>\n",
       "      <th>TrainSen</th>\n",
       "      <td>0</td>\n",
       "      <td>@0430yes i hope youre lurking rn. i want to li...</td>\n",
       "      <td>@0430yes i hope youre lurking rn. i want to li...</td>\n",
       "    </tr>\n",
       "    <tr>\n",
       "      <th>TrainSen</th>\n",
       "      <td>0</td>\n",
       "      <td>05 really taught me a valuable lesson I'm neve...</td>\n",
       "      <td>05 really taught me a valuable lesson I'm neve...</td>\n",
       "    </tr>\n",
       "    <tr>\n",
       "      <th>TrainSen</th>\n",
       "      <td>0</td>\n",
       "      <td>@098BERRY Never had a voice to protest, so you...</td>\n",
       "      <td>@098BERRY Never had a voice to protest, so you...</td>\n",
       "    </tr>\n",
       "    <tr>\n",
       "      <th>TrainSen</th>\n",
       "      <td>0</td>\n",
       "      <td>@0hMySt4rs Rest in peace &amp; love to you and you...</td>\n",
       "      <td>@0hMySt4rs Rest in peace &amp; love to you and you...</td>\n",
       "    </tr>\n",
       "    <tr>\n",
       "      <th>TrainSen</th>\n",
       "      <td>0</td>\n",
       "      <td>100 days until Christmas! 🌲 #too soon #not rea...</td>\n",
       "      <td>100 days until Christmas! 🌲 #too soon #not rea...</td>\n",
       "    </tr>\n",
       "    <tr>\n",
       "      <th>...</th>\n",
       "      <td>...</td>\n",
       "      <td>...</td>\n",
       "      <td>...</td>\n",
       "    </tr>\n",
       "    <tr>\n",
       "      <th>TrainSen</th>\n",
       "      <td>1</td>\n",
       "      <td>@Zendaya I could see the makeup artists giving...</td>\n",
       "      <td>@Zendaya I could see the makeup artists giving...</td>\n",
       "    </tr>\n",
       "    <tr>\n",
       "      <th>TrainSen</th>\n",
       "      <td>1</td>\n",
       "      <td>@ZiggiWatkins11 Slvr... That's great name #NOT...</td>\n",
       "      <td>@ZiggiWatkins11 Slvr... That's great name #NOT...</td>\n",
       "    </tr>\n",
       "    <tr>\n",
       "      <th>TrainSen</th>\n",
       "      <td>1</td>\n",
       "      <td>@zoso4986 @Nero He is the fag we need but not ...</td>\n",
       "      <td>@zoso4986 @Nero He is the fag we need but not ...</td>\n",
       "    </tr>\n",
       "    <tr>\n",
       "      <th>TrainSen</th>\n",
       "      <td>1</td>\n",
       "      <td>Zuma sounding like Kanye West right now trying...</td>\n",
       "      <td>Zuma sounding like Kanye West right now trying...</td>\n",
       "    </tr>\n",
       "    <tr>\n",
       "      <th>TrainSen</th>\n",
       "      <td>1</td>\n",
       "      <td>@ZZUCRU @UWDawgPack So true. Students - stick ...</td>\n",
       "      <td>@ZZUCRU @UWDawgPack So true. Students - stick ...</td>\n",
       "    </tr>\n",
       "  </tbody>\n",
       "</table>\n",
       "<p>39780 rows × 3 columns</p>\n",
       "</div>"
      ],
      "text/plain": [
       "          TrainSen                                               Text  \\\n",
       "TrainSen         0  @0430yes i hope youre lurking rn. i want to li...   \n",
       "TrainSen         0  05 really taught me a valuable lesson I'm neve...   \n",
       "TrainSen         0  @098BERRY Never had a voice to protest, so you...   \n",
       "TrainSen         0  @0hMySt4rs Rest in peace & love to you and you...   \n",
       "TrainSen         0  100 days until Christmas! 🌲 #too soon #not rea...   \n",
       "...            ...                                                ...   \n",
       "TrainSen         1  @Zendaya I could see the makeup artists giving...   \n",
       "TrainSen         1  @ZiggiWatkins11 Slvr... That's great name #NOT...   \n",
       "TrainSen         1  @zoso4986 @Nero He is the fag we need but not ...   \n",
       "TrainSen         1  Zuma sounding like Kanye West right now trying...   \n",
       "TrainSen         1  @ZZUCRU @UWDawgPack So true. Students - stick ...   \n",
       "\n",
       "                                                    Comment  \n",
       "TrainSen  @0430yes i hope youre lurking rn. i want to li...  \n",
       "TrainSen  05 really taught me a valuable lesson I'm neve...  \n",
       "TrainSen  @098BERRY Never had a voice to protest, so you...  \n",
       "TrainSen  @0hMySt4rs Rest in peace & love to you and you...  \n",
       "TrainSen  100 days until Christmas! 🌲 #too soon #not rea...  \n",
       "...                                                     ...  \n",
       "TrainSen  @Zendaya I could see the makeup artists giving...  \n",
       "TrainSen  @ZiggiWatkins11 Slvr... That's great name #NOT...  \n",
       "TrainSen  @zoso4986 @Nero He is the fag we need but not ...  \n",
       "TrainSen  Zuma sounding like Kanye West right now trying...  \n",
       "TrainSen  @ZZUCRU @UWDawgPack So true. Students - stick ...  \n",
       "\n",
       "[39780 rows x 3 columns]"
      ]
     },
     "execution_count": 7,
     "metadata": {},
     "output_type": "execute_result"
    }
   ],
   "source": [
    "df"
   ]
  },
  {
   "cell_type": "code",
   "execution_count": 8,
   "id": "fdd80b45",
   "metadata": {},
   "outputs": [],
   "source": [
    "### training transfrormer "
   ]
  },
  {
   "cell_type": "code",
   "execution_count": 6,
   "id": "1054a7ce",
   "metadata": {},
   "outputs": [
    {
     "data": {
      "text/plain": [
       "False"
      ]
     },
     "execution_count": 6,
     "metadata": {},
     "output_type": "execute_result"
    }
   ],
   "source": [
    "import torch\n",
    "torch.cuda.is_available()"
   ]
  },
  {
   "cell_type": "code",
   "execution_count": 7,
   "id": "b9e9d937",
   "metadata": {},
   "outputs": [
    {
     "name": "stderr",
     "output_type": "stream",
     "text": [
      "Some weights of the model checkpoint at bert-base-uncased were not used when initializing BertForSequenceClassification: ['cls.predictions.decoder.weight', 'cls.predictions.transform.dense.weight', 'cls.predictions.transform.LayerNorm.weight', 'cls.predictions.transform.LayerNorm.bias', 'cls.predictions.transform.dense.bias', 'cls.predictions.bias', 'cls.seq_relationship.weight', 'cls.seq_relationship.bias']\n",
      "- This IS expected if you are initializing BertForSequenceClassification from the checkpoint of a model trained on another task or with another architecture (e.g. initializing a BertForSequenceClassification model from a BertForPreTraining model).\n",
      "- This IS NOT expected if you are initializing BertForSequenceClassification from the checkpoint of a model that you expect to be exactly identical (initializing a BertForSequenceClassification model from a BertForSequenceClassification model).\n",
      "Some weights of BertForSequenceClassification were not initialized from the model checkpoint at bert-base-uncased and are newly initialized: ['classifier.weight', 'classifier.bias']\n",
      "You should probably TRAIN this model on a down-stream task to be able to use it for predictions and inference.\n"
     ]
    }
   ],
   "source": [
    "from torch.utils.data import TensorDataset, DataLoader\n",
    "from transformers import BertTokenizer\n",
    "# Tokenize the text data\n",
    "tokenizer = BertTokenizer.from_pretrained('bert-base-uncased')\n",
    "encoded_data = tokenizer(df['Comment'].tolist(), padding=True, truncation=True, return_tensors='pt')\n",
    "\n",
    "# Prepare labels\n",
    "labels = torch.tensor(df['TrainSen'].tolist())\n",
    "from sklearn.model_selection import train_test_split\n",
    "train_inputs, test_inputs, train_labels, test_labels = train_test_split(encoded_data['input_ids'], labels, test_size=0.2, random_state=42)\n",
    "from torch.utils.data import TensorDataset, DataLoader\n",
    "# Define a DataLoader\n",
    "train_dataset = TensorDataset(train_inputs, train_labels)\n",
    "train_loader = DataLoader(train_dataset, batch_size=16, shuffle=True)\n",
    "from transformers import BertForSequenceClassification\n",
    "# Load the pre-trained model\n",
    "model = BertForSequenceClassification.from_pretrained('bert-base-uncased', num_labels=2)\n",
    "# Define the loss function and optimizer\n",
    "import torch.nn as nn  \n",
    "import torch.optim as optim\n",
    "criterion = nn.BCELoss()\n",
    "optimizer = optim.AdamW(model.parameters(), lr=5e-6)"
   ]
  },
  {
   "cell_type": "code",
   "execution_count": 8,
   "id": "82cb0ee0",
   "metadata": {},
   "outputs": [
    {
     "name": "stdout",
     "output_type": "stream",
     "text": [
      "Epoch 1/5\n"
     ]
    },
    {
     "data": {
      "application/vnd.jupyter.widget-view+json": {
       "model_id": "62bff71ac25f44ee93a6f27db2a3e325",
       "version_major": 2,
       "version_minor": 0
      },
      "text/plain": [
       "Epoch 1:   0%|          | 0/1989 [00:00<?, ?it/s]"
      ]
     },
     "metadata": {},
     "output_type": "display_data"
    },
    {
     "ename": "KeyboardInterrupt",
     "evalue": "",
     "output_type": "error",
     "traceback": [
      "\u001b[0;31m---------------------------------------------------------------------------\u001b[0m",
      "\u001b[0;31mKeyboardInterrupt\u001b[0m                         Traceback (most recent call last)",
      "\u001b[0;32m/var/folders/0w/78_w9pm16ts4trsks5rjpd440000gn/T/ipykernel_13977/4229485357.py\u001b[0m in \u001b[0;36m<module>\u001b[0;34m\u001b[0m\n\u001b[1;32m     14\u001b[0m         \u001b[0mloss\u001b[0m \u001b[0;34m=\u001b[0m \u001b[0moutputs\u001b[0m\u001b[0;34m.\u001b[0m\u001b[0mloss\u001b[0m\u001b[0;34m\u001b[0m\u001b[0;34m\u001b[0m\u001b[0m\n\u001b[1;32m     15\u001b[0m         \u001b[0moptimizer\u001b[0m\u001b[0;34m.\u001b[0m\u001b[0mzero_grad\u001b[0m\u001b[0;34m(\u001b[0m\u001b[0;34m)\u001b[0m\u001b[0;34m\u001b[0m\u001b[0;34m\u001b[0m\u001b[0m\n\u001b[0;32m---> 16\u001b[0;31m         \u001b[0mloss\u001b[0m\u001b[0;34m.\u001b[0m\u001b[0mbackward\u001b[0m\u001b[0;34m(\u001b[0m\u001b[0;34m)\u001b[0m\u001b[0;34m\u001b[0m\u001b[0;34m\u001b[0m\u001b[0m\n\u001b[0m\u001b[1;32m     17\u001b[0m         \u001b[0moptimizer\u001b[0m\u001b[0;34m.\u001b[0m\u001b[0mstep\u001b[0m\u001b[0;34m(\u001b[0m\u001b[0;34m)\u001b[0m\u001b[0;34m\u001b[0m\u001b[0;34m\u001b[0m\u001b[0m\n",
      "\u001b[0;32m~/opt/anaconda3/lib/python3.9/site-packages/torch/_tensor.py\u001b[0m in \u001b[0;36mbackward\u001b[0;34m(self, gradient, retain_graph, create_graph, inputs)\u001b[0m\n\u001b[1;32m    490\u001b[0m                 \u001b[0minputs\u001b[0m\u001b[0;34m=\u001b[0m\u001b[0minputs\u001b[0m\u001b[0;34m,\u001b[0m\u001b[0;34m\u001b[0m\u001b[0;34m\u001b[0m\u001b[0m\n\u001b[1;32m    491\u001b[0m             )\n\u001b[0;32m--> 492\u001b[0;31m         torch.autograd.backward(\n\u001b[0m\u001b[1;32m    493\u001b[0m             \u001b[0mself\u001b[0m\u001b[0;34m,\u001b[0m \u001b[0mgradient\u001b[0m\u001b[0;34m,\u001b[0m \u001b[0mretain_graph\u001b[0m\u001b[0;34m,\u001b[0m \u001b[0mcreate_graph\u001b[0m\u001b[0;34m,\u001b[0m \u001b[0minputs\u001b[0m\u001b[0;34m=\u001b[0m\u001b[0minputs\u001b[0m\u001b[0;34m\u001b[0m\u001b[0;34m\u001b[0m\u001b[0m\n\u001b[1;32m    494\u001b[0m         )\n",
      "\u001b[0;32m~/opt/anaconda3/lib/python3.9/site-packages/torch/autograd/__init__.py\u001b[0m in \u001b[0;36mbackward\u001b[0;34m(tensors, grad_tensors, retain_graph, create_graph, grad_variables, inputs)\u001b[0m\n\u001b[1;32m    249\u001b[0m     \u001b[0;31m# some Python versions print out the first line of a multi-line function\u001b[0m\u001b[0;34m\u001b[0m\u001b[0;34m\u001b[0m\u001b[0m\n\u001b[1;32m    250\u001b[0m     \u001b[0;31m# calls in the traceback and some print out the last line\u001b[0m\u001b[0;34m\u001b[0m\u001b[0;34m\u001b[0m\u001b[0m\n\u001b[0;32m--> 251\u001b[0;31m     Variable._execution_engine.run_backward(  # Calls into the C++ engine to run the backward pass\n\u001b[0m\u001b[1;32m    252\u001b[0m         \u001b[0mtensors\u001b[0m\u001b[0;34m,\u001b[0m\u001b[0;34m\u001b[0m\u001b[0;34m\u001b[0m\u001b[0m\n\u001b[1;32m    253\u001b[0m         \u001b[0mgrad_tensors_\u001b[0m\u001b[0;34m,\u001b[0m\u001b[0;34m\u001b[0m\u001b[0;34m\u001b[0m\u001b[0m\n",
      "\u001b[0;31mKeyboardInterrupt\u001b[0m: "
     ]
    }
   ],
   "source": [
    "from tqdm.notebook import tqdm  # Import tqdm for progress bar\n",
    "\n",
    "# Training loop\n",
    "model.train()\n",
    "total_epochs = 5  # Adjust the number of epochs as needed\n",
    "\n",
    "for epoch in range(total_epochs):\n",
    "    print(f\"Epoch {epoch + 1}/{total_epochs}\")\n",
    "    \n",
    "    # Use tqdm for a progress bar over the batches\n",
    "    for batch in tqdm(train_loader, desc=f\"Epoch {epoch + 1}\"):\n",
    "        input_ids, labels = batch\n",
    "        outputs = model(input_ids, labels=labels)\n",
    "        loss = outputs.loss\n",
    "        optimizer.zero_grad()\n",
    "        loss.backward()\n",
    "        optimizer.step()\n"
   ]
  },
  {
   "cell_type": "code",
   "execution_count": 1,
   "id": "b4f98b90",
   "metadata": {},
   "outputs": [
    {
     "ename": "NameError",
     "evalue": "name 'model' is not defined",
     "output_type": "error",
     "traceback": [
      "\u001b[0;31m---------------------------------------------------------------------------\u001b[0m",
      "\u001b[0;31mNameError\u001b[0m                                 Traceback (most recent call last)",
      "\u001b[0;32m/var/folders/0w/78_w9pm16ts4trsks5rjpd440000gn/T/ipykernel_13977/1637580922.py\u001b[0m in \u001b[0;36m<module>\u001b[0;34m\u001b[0m\n\u001b[0;32m----> 1\u001b[0;31m \u001b[0mmodel\u001b[0m\u001b[0;34m.\u001b[0m\u001b[0meval\u001b[0m\u001b[0;34m(\u001b[0m\u001b[0;34m)\u001b[0m\u001b[0;34m\u001b[0m\u001b[0;34m\u001b[0m\u001b[0m\n\u001b[0m\u001b[1;32m      2\u001b[0m \u001b[0;32mwith\u001b[0m \u001b[0mtorch\u001b[0m\u001b[0;34m.\u001b[0m\u001b[0mno_grad\u001b[0m\u001b[0;34m(\u001b[0m\u001b[0;34m)\u001b[0m\u001b[0;34m:\u001b[0m\u001b[0;34m\u001b[0m\u001b[0;34m\u001b[0m\u001b[0m\n\u001b[1;32m      3\u001b[0m     \u001b[0moutputs\u001b[0m \u001b[0;34m=\u001b[0m \u001b[0mmodel\u001b[0m\u001b[0;34m(\u001b[0m\u001b[0mtest_inputs\u001b[0m\u001b[0;34m,\u001b[0m \u001b[0mlabels\u001b[0m\u001b[0;34m=\u001b[0m\u001b[0mtest_labels\u001b[0m\u001b[0;34m)\u001b[0m\u001b[0;34m\u001b[0m\u001b[0;34m\u001b[0m\u001b[0m\n\u001b[1;32m      4\u001b[0m     \u001b[0mpredicted_labels\u001b[0m \u001b[0;34m=\u001b[0m \u001b[0mtorch\u001b[0m\u001b[0;34m.\u001b[0m\u001b[0margmax\u001b[0m\u001b[0;34m(\u001b[0m\u001b[0moutputs\u001b[0m\u001b[0;34m.\u001b[0m\u001b[0mlogits\u001b[0m\u001b[0;34m,\u001b[0m \u001b[0mdim\u001b[0m\u001b[0;34m=\u001b[0m\u001b[0;36m1\u001b[0m\u001b[0;34m)\u001b[0m\u001b[0;34m\u001b[0m\u001b[0;34m\u001b[0m\u001b[0m\n\u001b[1;32m      5\u001b[0m \u001b[0;34m\u001b[0m\u001b[0m\n",
      "\u001b[0;31mNameError\u001b[0m: name 'model' is not defined"
     ]
    }
   ],
   "source": [
    "model.eval()\n",
    "with torch.no_grad():\n",
    "    outputs = model(test_inputs, labels=test_labels)\n",
    "    predicted_labels = torch.argmax(outputs.logits, dim=1)\n",
    "\n",
    "accuracy = (predicted_labels == test_labels).sum().item() / len(test_labels)\n",
    "print('Accuracy:', accuracy)\n"
   ]
  },
  {
   "cell_type": "code",
   "execution_count": 8,
   "id": "1f8a405a",
   "metadata": {},
   "outputs": [
    {
     "ename": "NameError",
     "evalue": "name 'predicted_labels' is not defined",
     "output_type": "error",
     "traceback": [
      "\u001b[0;31m---------------------------------------------------------------------------\u001b[0m",
      "\u001b[0;31mNameError\u001b[0m                                 Traceback (most recent call last)",
      "\u001b[0;32m/var/folders/0w/78_w9pm16ts4trsks5rjpd440000gn/T/ipykernel_94035/737939751.py\u001b[0m in \u001b[0;36m<module>\u001b[0;34m\u001b[0m\n\u001b[1;32m      4\u001b[0m \u001b[0;34m\u001b[0m\u001b[0m\n\u001b[1;32m      5\u001b[0m \u001b[0;31m# Calculate the confusion matrix\u001b[0m\u001b[0;34m\u001b[0m\u001b[0;34m\u001b[0m\u001b[0m\n\u001b[0;32m----> 6\u001b[0;31m \u001b[0mconf_matrix\u001b[0m \u001b[0;34m=\u001b[0m \u001b[0mconfusion_matrix\u001b[0m\u001b[0;34m(\u001b[0m\u001b[0mtest_labels\u001b[0m\u001b[0;34m,\u001b[0m \u001b[0mpredicted_labels\u001b[0m\u001b[0;34m)\u001b[0m\u001b[0;34m\u001b[0m\u001b[0;34m\u001b[0m\u001b[0m\n\u001b[0m\u001b[1;32m      7\u001b[0m \u001b[0;34m\u001b[0m\u001b[0m\n\u001b[1;32m      8\u001b[0m \u001b[0;31m# Display the confusion matrix as a heatmap\u001b[0m\u001b[0;34m\u001b[0m\u001b[0;34m\u001b[0m\u001b[0m\n",
      "\u001b[0;31mNameError\u001b[0m: name 'predicted_labels' is not defined"
     ]
    }
   ],
   "source": [
    "from sklearn.metrics import confusion_matrix\n",
    "import seaborn as sns\n",
    "import matplotlib.pyplot as plt\n",
    "\n",
    "# Calculate the confusion matrix\n",
    "conf_matrix = confusion_matrix(test_labels, predicted_labels)\n",
    "\n",
    "# Display the confusion matrix as a heatmap\n",
    "plt.figure(figsize=(8, 6))\n",
    "sns.heatmap(conf_matrix, annot=True, fmt='d', cmap='Blues',\n",
    "            xticklabels=['Non-Sarcastic', 'Sarcastic'],\n",
    "            yticklabels=['Non-Sarcastic', 'Sarcastic'])\n",
    "plt.xlabel('Predicted')\n",
    "plt.ylabel('Actual')\n",
    "plt.title('Confusion Matrix')\n",
    "plt.show()\n"
   ]
  }
 ],
 "metadata": {
  "kernelspec": {
   "display_name": "Python 3 (ipykernel)",
   "language": "python",
   "name": "python3"
  },
  "language_info": {
   "codemirror_mode": {
    "name": "ipython",
    "version": 3
   },
   "file_extension": ".py",
   "mimetype": "text/x-python",
   "name": "python",
   "nbconvert_exporter": "python",
   "pygments_lexer": "ipython3",
   "version": "3.9.13"
  }
 },
 "nbformat": 4,
 "nbformat_minor": 5
}
